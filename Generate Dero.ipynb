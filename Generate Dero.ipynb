{
 "cells": [
  {
   "cell_type": "code",
   "execution_count": 1,
   "metadata": {
    "collapsed": true
   },
   "outputs": [],
   "source": [
    "# Top"
   ]
  },
  {
   "cell_type": "markdown",
   "metadata": {},
   "source": [
    "This notebook generates the individual files for the dero package. When making changes, be sure to update the version in the top cell. Then restart kernel and run all cells, then navigate to the root folder (outside dero), and run upload.bat. "
   ]
  },
  {
   "cell_type": "markdown",
   "metadata": {},
   "source": [
    "TODO"
   ]
  },
  {
   "cell_type": "raw",
   "metadata": {},
   "source": [
    "-make tests for regressions\n",
    "-make tests for summarize\n",
    "-work on reg for each combo - freezing even with parallel/timeout\n",
    "-fixed effects regressions\n",
    "-include rows in summary column for regressions\n",
    "    -cluster\n",
    "    -robust\n",
    "    -fixed effects\n",
    "-make tests for long_short_portfolio\n",
    "-make tests for transition in math using the docstrings\n",
    "-make tests for pandas.averages with count"
   ]
  },
  {
   "cell_type": "code",
   "execution_count": 2,
   "metadata": {
    "collapsed": true
   },
   "outputs": [],
   "source": [
    "version = '0.9.11'\n",
    "upload = True"
   ]
  },
  {
   "cell_type": "code",
   "execution_count": 3,
   "metadata": {
    "collapsed": true
   },
   "outputs": [],
   "source": [
    "version_info = tuple([int(i) for i in version.split('.')]) #tuple of ints, e.g. (0,2,2)\n",
    "\n",
    "with open('version.py', 'w') as f:\n",
    "    f.write('__version__ = \"{}\" \\n'.format(version))\n",
    "    f.write('__version_info__ = {}'.format(version_info))"
   ]
  },
  {
   "cell_type": "code",
   "execution_count": 4,
   "metadata": {},
   "outputs": [
    {
     "name": "stdout",
     "output_type": "stream",
     "text": [
      "Overwriting requirements.txt\n"
     ]
    }
   ],
   "source": [
    "%%writefile requirements.txt\n",
    "pandas\n",
    "pandasql\n",
    "wrds\n",
    "numpy\n",
    "pdfrw\n",
    "selenium\n",
    "unidecode\n",
    "IPython\n",
    "sas7bdat\n",
    "statsmodels\n",
    "matplotlib\n",
    "sympy\n",
    "pandastable"
   ]
  },
  {
   "cell_type": "code",
   "execution_count": 5,
   "metadata": {},
   "outputs": [
    {
     "name": "stdout",
     "output_type": "stream",
     "text": [
      "Overwriting setup.py\n"
     ]
    }
   ],
   "source": [
    "%%writefile setup.py\n",
    "\n",
    "from version import __version__\n",
    "from setuptools import setup, find_packages\n",
    "\n",
    "\n",
    "setup(name='Dero',\n",
    "      version=__version__,\n",
    "      description=\"Nick DeRobertis Personal Library\",\n",
    "      long_description='''\n",
    "      Nick DeRobertis' personal library of functions. This is hosted on PyPi mostly for my own \n",
    "      convenience, though others may use it so long as I'm given credit. \n",
    "      ''',\n",
    "      author='Nick DeRobertis',\n",
    "      author_email='whoopnip@gmail.com',\n",
    "      license='MIT',\n",
    "      packages=find_packages(),\n",
    "      classifiers=[\n",
    "        # How mature is this project? Common values are\n",
    "        #   3 - Alpha\n",
    "        #   4 - Beta\n",
    "        #   5 - Production/Stable\n",
    "        'Development Status :: 3 - Alpha',\n",
    "\n",
    "        # Indicate who your project is intended for\n",
    "        'Intended Audience :: Developers',\n",
    "\n",
    "        # Specify the Python versions you support here. In particular, ensure\n",
    "        # that you indicate whether you support Python 2, Python 3 or both.\n",
    "        'Programming Language :: Python :: 3',\n",
    "        'Programming Language :: Python :: 3.2',\n",
    "        'Programming Language :: Python :: 3.3',\n",
    "        'Programming Language :: Python :: 3.4',\n",
    "        'Programming Language :: Python :: 3.5',\n",
    "        'Programming Language :: Python :: 3.6'\n",
    "        ],\n",
    "       install_requires=[\n",
    "        'pandas',\n",
    "        'pandasql',\n",
    "        'numpy',\n",
    "        'wrds',\n",
    "        'pdfrw',\n",
    "        'selenium',\n",
    "        'unidecode',\n",
    "        'IPython',\n",
    "        'sas7bdat',\n",
    "        'statsmodels',\n",
    "        'matplotlib',\n",
    "        'sympy',\n",
    "        'pandastable'],\n",
    "     )"
   ]
  },
  {
   "cell_type": "code",
   "execution_count": 6,
   "metadata": {
    "collapsed": true
   },
   "outputs": [],
   "source": [
    "import os\n",
    "\n",
    "orig_path = os.getcwd()\n",
    "\n",
    "os.chdir('dero')"
   ]
  },
  {
   "cell_type": "markdown",
   "metadata": {},
   "source": [
    "# init"
   ]
  },
  {
   "cell_type": "code",
   "execution_count": 7,
   "metadata": {
    "collapsed": true
   },
   "outputs": [],
   "source": [
    "init_str = '''\n",
    "__version__ = \"{}\"\n",
    "__version_info__ = {}\n",
    "\n",
    "#Provided for backwards compatibility with old code. In the old code, add to the top:\n",
    "#import builtins\n",
    "#builtins.__dero_version__ = '0.1.0'\n",
    "try: \n",
    "    __dero_version__\n",
    "    if __dero_version__ == '0.1.0':\n",
    "        from dero.core import *\n",
    "        from dero.data import *\n",
    "        from dero.decorators import *\n",
    "        from dero.latex import *\n",
    "        from dero.pdf import *\n",
    "        \n",
    "        from dero.ext_logging import *\n",
    "        from dero.ext_matplotlib import *\n",
    "        from dero.ext_multiprocessing import *\n",
    "        from dero.ext_pandas import *\n",
    "        from dero.ext_selenium import *\n",
    "        from dero.ext_sympy import *\n",
    "        from dero.ext_time import *\n",
    "        pandas_to_csv = to_csv\n",
    "    else: #stuctured this way so that we can support future structuring changes, can add additional if statements\n",
    "        __dero_version__ = 'current'\n",
    "except NameError:\n",
    "    __dero_version__ = 'current'\n",
    "\n",
    "if __dero_version__ == 'current':\n",
    "    import dero.core\n",
    "    import dero.data\n",
    "    import dero.decorators\n",
    "    import dero.latex\n",
    "    import dero.pdf\n",
    "    import dero.wrds\n",
    "    import dero.logtimer\n",
    "    import dero.reg\n",
    "    import dero.summ\n",
    "    import dero.dropbox\n",
    "    \n",
    "    import dero.ext_logging as logging\n",
    "    import dero.ext_matplotlib as matplotlib\n",
    "    import dero.ext_multiprocessing as multiprocessing\n",
    "    import dero.ext_pandas as pandas\n",
    "    import dero.ext_selenium as selenium\n",
    "    import dero.ext_sympy as sympy\n",
    "    import dero.ext_time as time\n",
    "    import dero.ext_math as math\n",
    "    \n",
    "    del dero.ext_logging\n",
    "    del dero.ext_matplotlib\n",
    "    del dero.ext_multiprocessing\n",
    "    del dero.ext_pandas\n",
    "    del dero.ext_selenium\n",
    "    del dero.ext_sympy\n",
    "    del dero.ext_time\n",
    "    del dero.ext_math\n",
    "    \n",
    "#     sys.modules['dero.logging'] = dero.ext_logging\n",
    "#     sys.modules['dero.matplotlib'] = dero.ext_matplotlib\n",
    "#     sys.modules['dero.multiprocessing'] = dero.ext_multiprocessing\n",
    "#     sys.modules['dero.pandas'] = dero.ext_pandas\n",
    "#     sys.modules['dero.selenium'] = dero.ext_selenium\n",
    "#     sys.modules['dero.sympy'] = dero.ext_sympy\n",
    "#     sys.modules['dero.time'] = dero.ext_time\n",
    "    \n",
    "#     import dero.logging\n",
    "#     import dero.matplotlib\n",
    "#     import dero.multiprocessing\n",
    "#     import dero.pandas\n",
    "#     import dero.selenium\n",
    "#     import dero.sympy\n",
    "#     import dero.time\n",
    "    \n",
    "     \n",
    "\n",
    "'''.format(version, version_info)\n",
    "\n",
    "with open('__init__.py', 'w') as f:\n",
    "    f.write(init_str)"
   ]
  },
  {
   "cell_type": "markdown",
   "metadata": {},
   "source": [
    "# Setup for PyPi"
   ]
  },
  {
   "cell_type": "code",
   "execution_count": 8,
   "metadata": {
    "collapsed": true
   },
   "outputs": [],
   "source": [
    "os.chdir(r'C:\\Users\\derobertisna.UFAD')"
   ]
  },
  {
   "cell_type": "code",
   "execution_count": 9,
   "metadata": {},
   "outputs": [
    {
     "name": "stdout",
     "output_type": "stream",
     "text": [
      "Overwriting .pypirc\n"
     ]
    }
   ],
   "source": [
    "%%writefile .pypirc\n",
    "\n",
    "[distutils]\n",
    "index-servers=pypi\n",
    "\n",
    "[pypi]\n",
    "repository = https://upload.pypi.org/legacy/\n",
    "username = whoopnip"
   ]
  },
  {
   "cell_type": "markdown",
   "metadata": {},
   "source": [
    "Run below to upload to PyPi. Use the first file if it's the first upload, and the second for recurring uploads."
   ]
  },
  {
   "cell_type": "code",
   "execution_count": 10,
   "metadata": {
    "collapsed": true
   },
   "outputs": [],
   "source": [
    "os.chdir(orig_path)"
   ]
  },
  {
   "cell_type": "code",
   "execution_count": 11,
   "metadata": {
    "collapsed": true
   },
   "outputs": [],
   "source": [
    "first_time_upload_str = '''\n",
    "python setup.py sdist bdist_wheel\n",
    "twine register dist\\Dero-{0}*\n",
    "twine upload dist\\Dero-{0}*\n",
    "pause\n",
    "'''.format(version)\n",
    "\n",
    "with open('first_time_upload.bat', 'w') as f:\n",
    "    f.write(first_time_upload_str)"
   ]
  },
  {
   "cell_type": "code",
   "execution_count": 12,
   "metadata": {
    "collapsed": true
   },
   "outputs": [],
   "source": [
    "upload_str = '''\n",
    "python setup.py sdist bdist_wheel\n",
    "twine upload dist\\Dero-{}*\n",
    "pause\n",
    "'''.format(version)\n",
    "with open('upload.bat', 'w') as f:\n",
    "    f.write(upload_str)"
   ]
  },
  {
   "cell_type": "code",
   "execution_count": 13,
   "metadata": {
    "collapsed": true
   },
   "outputs": [],
   "source": [
    "if upload:\n",
    "    os.system('start cmd /C upload.bat')"
   ]
  },
  {
   "cell_type": "code",
   "execution_count": 14,
   "metadata": {
    "collapsed": true
   },
   "outputs": [],
   "source": [
    "dero_path = os.path.join(orig_path, 'dero')\n",
    "os.chdir(dero_path)"
   ]
  }
 ],
 "metadata": {
  "kernelspec": {
   "display_name": "Python 3",
   "language": "python",
   "name": "python3"
  },
  "language_info": {
   "codemirror_mode": {
    "name": "ipython",
    "version": 3
   },
   "file_extension": ".py",
   "mimetype": "text/x-python",
   "name": "python",
   "nbconvert_exporter": "python",
   "pygments_lexer": "ipython3",
   "version": "3.6.1"
  }
 },
 "nbformat": 4,
 "nbformat_minor": 2
}
