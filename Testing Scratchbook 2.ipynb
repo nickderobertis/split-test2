{
 "cells": [
  {
   "cell_type": "code",
   "execution_count": 8,
   "metadata": {},
   "outputs": [],
   "source": [
    "import dero\n",
    "import pandas as pd\n",
    "from numpy import nan"
   ]
  },
  {
   "cell_type": "code",
   "execution_count": 2,
   "metadata": {},
   "outputs": [
    {
     "data": {
      "text/plain": [
       "'0.9.2'"
      ]
     },
     "execution_count": 2,
     "metadata": {},
     "output_type": "execute_result"
    }
   ],
   "source": [
    "dero.__version__"
   ]
  },
  {
   "cell_type": "code",
   "execution_count": null,
   "metadata": {
    "collapsed": true
   },
   "outputs": [],
   "source": [
    "df_extra = pd.DataFrame([\n",
    "                                (10516, 'a', '1/1/2000', 1.01),\n",
    "                                (10516, 'a', '1/2/2000', 1.02),\n",
    "                                (10516, 'a', '1/2/2000', 1.02),\n",
    "                                (10516, 'a', '1/3/2000', 1.03),\n",
    "                                (10516, 'a', '1/4/2000', 1.04),\n",
    "                                (10516, 'b', '1/1/2000', 1.05),\n",
    "                                (10516, 'b', '1/2/2000', 1.06),\n",
    "                                (10516, 'b', '1/3/2000', 1.07),\n",
    "                                (10516, 'b', '1/4/2000', 1.08),\n",
    "                                (10517, 'a', '1/1/2000', 1.09),\n",
    "                                (10517, 'a', '1/2/2000', 1.10),\n",
    "                                (10517, 'a', '1/3/2000', 1.11),\n",
    "                                (10517, 'a', '1/4/2000', 1.12),\n",
    "                               ], columns = ['PERMNO','byvar','Date', 'RET'])"
   ]
  },
  {
   "cell_type": "code",
   "execution_count": 2,
   "metadata": {
    "collapsed": true
   },
   "outputs": [],
   "source": [
    "df = pd.DataFrame([\n",
    "                                (10516, 'a', '1/1/2000', 1.01),\n",
    "                                (10516, 'a', '1/2/2000', 1.02),\n",
    "                                (10516, 'a', '1/3/2000', 1.03),\n",
    "                                (10516, 'a', '1/4/2000', 1.04),\n",
    "                                (10516, 'b', '1/1/2000', 1.05),\n",
    "                                (10516, 'b', '1/2/2000', 1.06),\n",
    "                                (10516, 'b', '1/3/2000', 1.07),\n",
    "                                (10516, 'b', '1/4/2000', 1.08),\n",
    "                                (10517, 'a', '1/1/2000', 1.09),\n",
    "                                (10517, 'a', '1/2/2000', 1.10),\n",
    "                                (10517, 'a', '1/3/2000', 1.11),\n",
    "                                (10517, 'a', '1/4/2000', 1.12),\n",
    "                               ], columns = ['PERMNO','byvar','Date', 'RET'])   \n",
    "\n",
    "df_datetime = df.copy()\n",
    "df_datetime['Date'] = pd.to_datetime(df_datetime['Date'])"
   ]
  },
  {
   "cell_type": "code",
   "execution_count": 7,
   "metadata": {
    "collapsed": true
   },
   "outputs": [],
   "source": [
    "df_extra_dates = pd.DataFrame([\n",
    "                                (10516, 'a', '1/1/2000', 1.01),\n",
    "                                (10516, 'a', '1/2/2000', 1.02),\n",
    "                                (10516, 'a', '1/3/2000', 1.03),\n",
    "                                (10516, 'a', '1/4/2000', 1.04),\n",
    "                                (10516, 'a', '1/5/2000', 1.05),\n",
    "                                (10516, 'a', '1/6/2000', 1.06),\n",
    "                                (10516, 'b', '1/1/2000', 1.05),\n",
    "                                (10516, 'b', '1/2/2000', 1.06),\n",
    "                                (10516, 'b', '1/3/2000', 1.07),\n",
    "                                (10516, 'b', '1/4/2000', 1.08),\n",
    "                                (10517, 'a', '1/1/2000', 1.09),\n",
    "                                (10517, 'a', '1/2/2000', 1.10),\n",
    "                                (10517, 'a', '1/3/2000', 1.11),\n",
    "                                (10517, 'a', '1/4/2000', 1.12),\n",
    "                                (10517, 'a', '1/5/2000', 1.13),\n",
    "                                (10517, 'a', '1/6/2000', 1.14),\n",
    "\n",
    "                               ], columns = ['PERMNO','byvar','Date', 'RET'])   \n",
    "\n",
    "    \n",
    "df_extra_datetime = df_extra_dates.copy()\n",
    "df_extra_datetime['Date'] = pd.to_datetime(df_extra_datetime['Date'])"
   ]
  },
  {
   "cell_type": "code",
   "execution_count": 2,
   "metadata": {
    "collapsed": true
   },
   "outputs": [],
   "source": [
    "from numpy import nan\n",
    "\n",
    "df = pd.DataFrame(\n",
    "        data=[\n",
    "            (1, 2, 3),\n",
    "            (4, 5, nan),\n",
    "            (10, 11, 100)\n",
    "        ],\n",
    "        columns=['y', 'x1', 'x2']\n",
    "    )"
   ]
  },
  {
   "cell_type": "code",
   "execution_count": 36,
   "metadata": {},
   "outputs": [],
   "source": [
    "df_groups = pd.DataFrame(\n",
    "        data=[\n",
    "            (1, 2, 3, 'a'),\n",
    "            (4, 5, nan, 'a'),\n",
    "            (10, 11, 100, 'a'),\n",
    "            (2, 4, 6, 'b'),\n",
    "            (5, 10, nan, 'b'),\n",
    "            (11, 15, 150, 'b'),\n",
    "        ],\n",
    "        columns=['y', 'x1', 'x2', 'group']\n",
    "    )\n",
    "\n",
    "df_fill_data = pd.DataFrame(\n",
    "        data=[\n",
    "            (4, 'c', nan, 'a'),\n",
    "            (1, 'd', 3, 'a'),\n",
    "            (10, 'e', 100, 'a'),\n",
    "            (2, nan, 6, 'b'),\n",
    "            (5, 'f', 8, 'b'),\n",
    "            (11, 'g', 150, 'b'),\n",
    "        ],\n",
    "        columns=['y', 'x1', 'x2', 'group']\n",
    "    )\n",
    "\n",
    "df_groups_no_nan = pd.DataFrame(\n",
    "        data=[\n",
    "            (1, 2, 3, 'a'),\n",
    "            (4, 5, 8, 'a'),\n",
    "            (10, 11, 100, 'a'),\n",
    "            (2, 4, 6, 'b'),\n",
    "            (5, 10, 20, 'b'),\n",
    "            (11, 15, 150, 'b'),\n",
    "        ],\n",
    "        columns=['y', 'x1', 'x2', 'group']\n",
    "    )\n",
    "\n",
    "df_two_groups = pd.DataFrame(\n",
    "        data=[\n",
    "            (1, 2, 3, 'a', 'c'),\n",
    "            (4, 5, 8, 'a', 'd'),\n",
    "            (10, 11, 100, 'a', 'd'),\n",
    "            (2, 4, 6, 'b', 'c'),\n",
    "            (5, 10, 20, 'b', 'd'),\n",
    "            (11, 15, 150, 'b', 'd'),\n",
    "        ],\n",
    "        columns=['y', 'x1', 'x2', 'group1', 'group2']\n",
    "    )\n",
    "\n",
    "df_groups_reg = pd.DataFrame(\n",
    "        data=[\n",
    "            (1, 2, 3, 'a'),\n",
    "            (4, 5, 8, 'a'),\n",
    "            (10, 11, 100, 'a'),\n",
    "            (15, 12, 123, 'a'),\n",
    "            (2, 4, 6, 'b'),\n",
    "            (5, 10, 20, 'b'),\n",
    "            (11, 15, 150, 'b'),\n",
    "            (13, 12, 156, 'b'),\n",
    "\n",
    "        ],\n",
    "        columns=['y', 'x1', 'x2', 'group']\n",
    "    )"
   ]
  },
  {
   "cell_type": "code",
   "execution_count": 39,
   "metadata": {},
   "outputs": [],
   "source": [
    "df_copy = df_groups_reg.copy()\n",
    "df_copy.set_index('x2', inplace=True)"
   ]
  },
  {
   "cell_type": "code",
   "execution_count": 46,
   "metadata": {},
   "outputs": [],
   "source": [
    "a = set([i for i in df_groups_reg[['y','x1']].drop_duplicates().itertuples(index=False)])"
   ]
  },
  {
   "cell_type": "code",
   "execution_count": 47,
   "metadata": {},
   "outputs": [],
   "source": [
    "b = set([i for i in df_copy[['y','x1']].drop_duplicates().itertuples(index=False)])"
   ]
  },
  {
   "cell_type": "code",
   "execution_count": 45,
   "metadata": {
    "collapsed": true
   },
   "outputs": [],
   "source": [
    "pd.DataFrame.itertuples?"
   ]
  },
  {
   "cell_type": "code",
   "execution_count": 49,
   "metadata": {},
   "outputs": [
    {
     "data": {
      "text/plain": [
       "{Pandas(y=1, x1=2),\n",
       " Pandas(y=2, x1=4),\n",
       " Pandas(y=4, x1=5),\n",
       " Pandas(y=5, x1=10),\n",
       " Pandas(y=10, x1=11),\n",
       " Pandas(y=11, x1=12),\n",
       " Pandas(y=15, x1=12)}"
      ]
     },
     "execution_count": 49,
     "metadata": {},
     "output_type": "execute_result"
    }
   ],
   "source": [
    "set(df_copy[['y','x1']].drop_duplicates().itertuples(index=False))"
   ]
  },
  {
   "cell_type": "code",
   "execution_count": 48,
   "metadata": {},
   "outputs": [],
   "source": [
    "import dero\n",
    "import pandas as pd\n",
    "from pandas import Timestamp\n",
    "from testutils.byvars import add_fake_byvars\n",
    "\n",
    "\n",
    "df_get_data = pd.DataFrame(data = [\n",
    "    (10516, Timestamp('2000-01-03 00:00:00')),\n",
    "    (10517, Timestamp('2000-01-04 00:00:00')),\n",
    "    ], columns = ['PERMNO', 'Date'])"
   ]
  },
  {
   "cell_type": "code",
   "execution_count": 3,
   "metadata": {},
   "outputs": [
    {
     "name": "stderr",
     "output_type": "stream",
     "text": [
      "C:\\Users\\derobertisna.UFAD\\Dropbox (Personal)\\Python\\Dero\\dero\\reg\\summarize.py:87: SettingWithCopyWarning: \n",
      "A value is trying to be set on a copy of a slice from a DataFrame.\n",
      "Try using .loc[row_indexer,col_indexer] = value instead\n",
      "\n",
      "See the caveats in the documentation: http://pandas.pydata.org/pandas-docs/stable/indexing.html#indexing-view-versus-copy\n",
      "  df['type'] = ['estimate', 'stderr'] * int(len(df.index) / 2)\n",
      "C:\\Users\\derobertisna.UFAD\\Dropbox (Personal)\\Python\\Dero\\dero\\reg\\summarize.py:90: SettingWithCopyWarning: \n",
      "A value is trying to be set on a copy of a slice from a DataFrame.\n",
      "Try using .loc[row_indexer,col_indexer] = value instead\n",
      "\n",
      "See the caveats in the documentation: http://pandas.pydata.org/pandas-docs/stable/indexing.html#indexing-view-versus-copy\n",
      "  df['regressor'] = [i for sublist in [[j] * 2 for j in df.index[0::2]] for i in sublist]\n",
      "C:\\Users\\derobertisna.UFAD\\Dropbox (Personal)\\Python\\Dero\\dero\\reg\\summarize.py:94: SettingWithCopyWarning: \n",
      "A value is trying to be set on a copy of a slice from a DataFrame.\n",
      "Try using .loc[row_indexer,col_indexer] = value instead\n",
      "\n",
      "See the caveats in the documentation: http://pandas.pydata.org/pandas-docs/stable/indexing.html#indexing-view-versus-copy\n",
      "  df['idx'] = [i for i in range(len(df))]\n"
     ]
    },
    {
     "data": {
      "text/plain": [
       "([<statsmodels.regression.linear_model.RegressionResultsWrapper at 0x54e05988d0>,\n",
       "  (<statsmodels.regression.linear_model.RegressionResultsWrapper at 0x54e170d9b0>,\n",
       "   {'group': ['a', 'b']}),\n",
       "  <statsmodels.regression.linear_model.RegressionResultsWrapper at 0x54e0598c50>,\n",
       "  (<statsmodels.regression.linear_model.RegressionResultsWrapper at 0x54e0598da0>,\n",
       "   {'group': ['a', 'b']}),\n",
       "  <statsmodels.regression.linear_model.RegressionResultsWrapper at 0x54e059c5f8>,\n",
       "  (<statsmodels.regression.linear_model.RegressionResultsWrapper at 0x54e059c828>,\n",
       "   {'group': ['a', 'b']})],\n",
       " <class 'statsmodels.iolib.summary2.Summary'>\n",
       " \"\"\"\n",
       " \n",
       " ====================================================================\n",
       "                       y I     y II   y III   y IIII y IIIII y IIIIII\n",
       " --------------------------------------------------------------------\n",
       " const               -1.29   -1.47*  2.49*** 1.55**  1.28    0.17    \n",
       " x1                  1.01*** 1.11***                 0.26    0.43*   \n",
       " x2                                  0.07*** 0.07*** 0.06*** 0.05*** \n",
       " group Fixed Effects No      Yes     No      Yes     No      Yes     \n",
       " N                   8       8       8       8       8       8       \n",
       " R2                  0.77    0.84    0.87    0.90    0.88    0.93    \n",
       " Adj-R2              0.73    0.78    0.85    0.86    0.84    0.87    \n",
       " ====================================================================\n",
       " Standard errors in parentheses.\n",
       " * p<.1, ** p<.05, ***p<.01\n",
       " \"\"\")"
      ]
     },
     "execution_count": 3,
     "metadata": {},
     "output_type": "execute_result"
    }
   ],
   "source": [
    "from dero.reg.args import RegressionSetArgs\n",
    "\n",
    "reg_args = RegressionSetArgs(\n",
    "    df_groups_reg,\n",
    "    'y',\n",
    "    [\n",
    "        [\n",
    "            'x1'\n",
    "        ],\n",
    "        [\n",
    "            'x1'\n",
    "        ],\n",
    "        [\n",
    "            'x2'\n",
    "        ],\n",
    "        [\n",
    "            'x2'\n",
    "        ],\n",
    "        [\n",
    "            'x1', \n",
    "            'x2'\n",
    "        ],\n",
    "        [\n",
    "            'x1',\n",
    "            'x2'\n",
    "        ]\n",
    "    ],\n",
    "    [\n",
    "        None,\n",
    "        'group',\n",
    "        None,\n",
    "        'group',\n",
    "        None,\n",
    "        'group'\n",
    "    ]\n",
    "\n",
    ")\n",
    "\n",
    "dero.reg.reg_for_each_xvar_set_and_produce_summary(**reg_args)"
   ]
  },
  {
   "cell_type": "code",
   "execution_count": 15,
   "metadata": {},
   "outputs": [
    {
     "name": "stdout",
     "output_type": "stream",
     "text": [
      "Getting keys\n",
      "Getting item df\n",
      "Getting item yvar\n",
      "Getting item xvars_list\n",
      "Getting item fe\n",
      "Getting item test\n",
      "args ()\n",
      "kwargs {'df':     y  x1   x2 group\n",
      "0   1   2    3     a\n",
      "1   4   5    8     a\n",
      "2  10  11  100     a\n",
      "3  15  12  123     a\n",
      "4   2   4    6     b\n",
      "5   5  10   20     b\n",
      "6  11  15  150     b\n",
      "7  13  12  156     b, 'yvar': 'y', 'xvars_list': [['x1'], ['x1'], ['x2'], ['x2'], ['x1', 'x2'], ['x1', 'x2']], 'fe': [None, 'group', None, 'group', None, 'group'], 'test': 'wqhoop'}\n"
     ]
    }
   ],
   "source": [
    "class RegressionSetArgs:\n",
    "\n",
    "    def __init__(self, df, yvar, xvars_list, fe_list=None, **reg_kwargs):\n",
    "        self.df = df\n",
    "        self.yvar = yvar\n",
    "        self.xvars_list = xvars_list\n",
    "        self.fe = fe_list\n",
    "        self._parse_reg_kwargs(reg_kwargs)\n",
    "\n",
    "    def keys(self):\n",
    "        return ['df', 'yvar', 'xvars_list', 'fe'] + self.reg_kwarg_names\n",
    "    \n",
    "    def _parse_reg_kwargs(self, reg_kwargs):\n",
    "        self.reg_kwarg_names = []\n",
    "        for name, arg in reg_kwargs.items():\n",
    "            setattr(self, name, arg)\n",
    "            self.reg_kwarg_names.append(name)\n",
    "\n",
    "    def __getitem__(self, item):\n",
    "        return getattr(self, item)\n",
    "    \n",
    "reg_args = RegressionSetArgs(\n",
    "    df_groups_reg,\n",
    "    'y',\n",
    "    [\n",
    "        [\n",
    "            'x1'\n",
    "        ],\n",
    "        [\n",
    "            'x1'\n",
    "        ],\n",
    "        [\n",
    "            'x2'\n",
    "        ],\n",
    "        [\n",
    "            'x2'\n",
    "        ],\n",
    "        [\n",
    "            'x1', \n",
    "            'x2'\n",
    "        ],\n",
    "        [\n",
    "            'x1',\n",
    "            'x2'\n",
    "        ]\n",
    "    ],\n",
    "    [\n",
    "        None,\n",
    "        'group',\n",
    "        None,\n",
    "        'group',\n",
    "        None,\n",
    "        'group'\n",
    "    ],\n",
    ")\n",
    "\n",
    "def f(*args, **kwargs):\n",
    "    print('args', args)\n",
    "    print('kwargs', kwargs)\n",
    "    \n",
    "f(**reg_args)"
   ]
  },
  {
   "cell_type": "code",
   "execution_count": null,
   "metadata": {
    "collapsed": true
   },
   "outputs": [],
   "source": []
  },
  {
   "cell_type": "code",
   "execution_count": 8,
   "metadata": {},
   "outputs": [
    {
     "name": "stdout",
     "output_type": "stream",
     "text": [
      "> c:\\programdata\\anaconda3\\lib\\site-packages\\numpy\\core\\numeric.py(531)asarray()\n",
      "-> return array(a, dtype, copy=False, order=order)\n",
      "(Pdb) u\n",
      "> c:\\programdata\\anaconda3\\lib\\site-packages\\numpy\\core\\fromnumeric.py(47)_wrapit()\n",
      "-> result = getattr(asarray(obj), method)(*args, **kwds)\n",
      "(Pdb) u\n",
      "> c:\\programdata\\anaconda3\\lib\\site-packages\\numpy\\core\\fromnumeric.py(67)_wrapfunc()\n",
      "-> return _wrapit(obj, method, *args, **kwds)\n",
      "(Pdb) u\n",
      "> c:\\programdata\\anaconda3\\lib\\site-packages\\numpy\\core\\fromnumeric.py(1670)compress()\n",
      "-> return _wrapfunc(a, 'compress', condition, axis=axis, out=out)\n",
      "(Pdb) u\n",
      "> c:\\programdata\\anaconda3\\lib\\site-packages\\pandas\\core\\frame.py(3150)dropna()\n",
      "-> raise KeyError(list(np.compress(check, subset)))\n",
      "(Pdb) u\n",
      "> c:\\users\\derobertisna.ufad\\dropbox (personal)\\python\\dero\\dero\\reg\\reg.py(72)_drop_missings_df()\n",
      "-> return df.dropna(subset=drop_set)\n",
      "(Pdb) drop_set\n",
      "['y', ['x1', 'x2']]\n",
      "(Pdb) fe\n",
      "(Pdb) q\n"
     ]
    }
   ],
   "source": [
    "import pdb\n",
    "pdb.pm()"
   ]
  },
  {
   "cell_type": "code",
   "execution_count": 54,
   "metadata": {},
   "outputs": [],
   "source": [
    "df_big_fill_data = add_fake_byvars(df_fill_data, data_multipler_per_byvar=20)"
   ]
  },
  {
   "cell_type": "code",
   "execution_count": null,
   "metadata": {
    "collapsed": true
   },
   "outputs": [],
   "source": []
  },
  {
   "cell_type": "code",
   "execution_count": null,
   "metadata": {
    "collapsed": true
   },
   "outputs": [],
   "source": []
  },
  {
   "cell_type": "code",
   "execution_count": 56,
   "metadata": {},
   "outputs": [],
   "source": [
    "import graphviz"
   ]
  },
  {
   "cell_type": "code",
   "execution_count": 4,
   "metadata": {},
   "outputs": [
    {
     "data": {
      "image/svg+xml": [
       "<?xml version=\"1.0\" encoding=\"UTF-8\" standalone=\"no\"?>\r\n",
       "<!DOCTYPE svg PUBLIC \"-//W3C//DTD SVG 1.1//EN\"\r\n",
       " \"http://www.w3.org/Graphics/SVG/1.1/DTD/svg11.dtd\">\r\n",
       "<!-- Generated by graphviz version 2.38.0 (20140413.2041)\r\n",
       " -->\r\n",
       "<!-- Title: Regression Logical Pipeline Pages: 1 -->\r\n",
       "<svg width=\"206pt\" height=\"116pt\"\r\n",
       " viewBox=\"0.00 0.00 206.00 116.00\" xmlns=\"http://www.w3.org/2000/svg\" xmlns:xlink=\"http://www.w3.org/1999/xlink\">\r\n",
       "<g id=\"graph0\" class=\"graph\" transform=\"scale(1 1) rotate(0) translate(4 112)\">\r\n",
       "<title>Regression Logical Pipeline</title>\r\n",
       "<polygon fill=\"white\" stroke=\"none\" points=\"-4,4 -4,-112 202,-112 202,4 -4,4\"/>\r\n",
       "<!-- A -->\r\n",
       "<g id=\"node1\" class=\"node\"><title>A</title>\r\n",
       "<ellipse fill=\"none\" stroke=\"black\" cx=\"27\" cy=\"-90\" rx=\"27\" ry=\"18\"/>\r\n",
       "<text text-anchor=\"middle\" x=\"27\" y=\"-86.3\" font-family=\"Times New Roman,serif\" font-size=\"14.00\">C</text>\r\n",
       "</g>\r\n",
       "<!-- B -->\r\n",
       "<g id=\"node2\" class=\"node\"><title>B</title>\r\n",
       "<ellipse fill=\"none\" stroke=\"black\" cx=\"99\" cy=\"-90\" rx=\"27\" ry=\"18\"/>\r\n",
       "<text text-anchor=\"middle\" x=\"99\" y=\"-86.3\" font-family=\"Times New Roman,serif\" font-size=\"14.00\">D</text>\r\n",
       "</g>\r\n",
       "<!-- C -->\r\n",
       "<g id=\"node3\" class=\"node\"><title>C</title>\r\n",
       "<ellipse fill=\"none\" stroke=\"black\" cx=\"171\" cy=\"-90\" rx=\"27\" ry=\"18\"/>\r\n",
       "<text text-anchor=\"middle\" x=\"171\" y=\"-86.3\" font-family=\"Times New Roman,serif\" font-size=\"14.00\">C</text>\r\n",
       "</g>\r\n",
       "<!-- D -->\r\n",
       "<g id=\"node4\" class=\"node\"><title>D</title>\r\n",
       "<ellipse fill=\"none\" stroke=\"black\" cx=\"171\" cy=\"-18\" rx=\"27\" ry=\"18\"/>\r\n",
       "<text text-anchor=\"middle\" x=\"171\" y=\"-14.3\" font-family=\"Times New Roman,serif\" font-size=\"14.00\">D</text>\r\n",
       "</g>\r\n",
       "<!-- C&#45;&gt;D -->\r\n",
       "<g id=\"edge1\" class=\"edge\"><title>C&#45;&gt;D</title>\r\n",
       "<path fill=\"none\" stroke=\"black\" d=\"M171,-71.6966C171,-63.9827 171,-54.7125 171,-46.1124\"/>\r\n",
       "<polygon fill=\"black\" stroke=\"black\" points=\"174.5,-46.1043 171,-36.1043 167.5,-46.1044 174.5,-46.1043\"/>\r\n",
       "</g>\r\n",
       "</g>\r\n",
       "</svg>\r\n"
      ],
      "text/plain": [
       "<graphviz.dot.Digraph at 0x50a7b7ce10>"
      ]
     },
     "execution_count": 4,
     "metadata": {},
     "output_type": "execute_result"
    }
   ],
   "source": [
    "dot = graphviz.Digraph('Regression Logical Pipeline')\n",
    "dot.node('A', label='C')\n",
    "dot.node('B', label='D')\n",
    "dot.edge('C', 'D')\n",
    "# dot.edges(['AAtoB', 'AtoBB'])\n",
    "# print(dot.source)\n",
    "dot"
   ]
  },
  {
   "cell_type": "code",
   "execution_count": 62,
   "metadata": {},
   "outputs": [
    {
     "data": {
      "image/svg+xml": [
       "<?xml version=\"1.0\" encoding=\"UTF-8\" standalone=\"no\"?>\r\n",
       "<!DOCTYPE svg PUBLIC \"-//W3C//DTD SVG 1.1//EN\"\r\n",
       " \"http://www.w3.org/Graphics/SVG/1.1/DTD/svg11.dtd\">\r\n",
       "<!-- Generated by graphviz version 2.38.0 (20140413.2041)\r\n",
       " -->\r\n",
       "<!-- Title: Regression Logical Pipeline Pages: 1 -->\r\n",
       "<svg width=\"853pt\" height=\"188pt\"\r\n",
       " viewBox=\"0.00 0.00 852.58 188.00\" xmlns=\"http://www.w3.org/2000/svg\" xmlns:xlink=\"http://www.w3.org/1999/xlink\">\r\n",
       "<g id=\"graph0\" class=\"graph\" transform=\"scale(1 1) rotate(0) translate(4 184)\">\r\n",
       "<title>Regression Logical Pipeline</title>\r\n",
       "<polygon fill=\"white\" stroke=\"none\" points=\"-4,4 -4,-184 848.582,-184 848.582,4 -4,4\"/>\r\n",
       "<!-- A -->\r\n",
       "<g id=\"node1\" class=\"node\"><title>A</title>\r\n",
       "<ellipse fill=\"none\" stroke=\"black\" stroke-width=\"0\" cx=\"318.741\" cy=\"-162\" rx=\"38.9931\" ry=\"18\"/>\r\n",
       "<text text-anchor=\"middle\" x=\"318.741\" y=\"-158.3\" font-family=\"Times New Roman,serif\" font-size=\"14.00\">WS Fin</text>\r\n",
       "</g>\r\n",
       "<!-- C -->\r\n",
       "<g id=\"node3\" class=\"node\"><title>C</title>\r\n",
       "<ellipse fill=\"none\" stroke=\"black\" cx=\"335.741\" cy=\"-90\" rx=\"59.5901\" ry=\"18\"/>\r\n",
       "<text text-anchor=\"middle\" x=\"335.741\" y=\"-86.3\" font-family=\"Times New Roman,serif\" font-size=\"14.00\">WS Fin/Govt</text>\r\n",
       "</g>\r\n",
       "<!-- A&#45;&gt;C -->\r\n",
       "<g id=\"edge1\" class=\"edge\"><title>A&#45;&gt;C</title>\r\n",
       "<path fill=\"none\" stroke=\"black\" d=\"M322.856,-144.055C324.749,-136.261 327.041,-126.822 329.165,-118.079\"/>\r\n",
       "<polygon fill=\"black\" stroke=\"black\" points=\"332.587,-118.819 331.546,-108.275 325.784,-117.167 332.587,-118.819\"/>\r\n",
       "</g>\r\n",
       "<!-- B -->\r\n",
       "<g id=\"node2\" class=\"node\"><title>B</title>\r\n",
       "<ellipse fill=\"none\" stroke=\"black\" cx=\"490.741\" cy=\"-162\" rx=\"38.1938\" ry=\"18\"/>\r\n",
       "<text text-anchor=\"middle\" x=\"490.741\" y=\"-158.3\" font-family=\"Times New Roman,serif\" font-size=\"14.00\">CQ Fin</text>\r\n",
       "</g>\r\n",
       "<!-- D -->\r\n",
       "<g id=\"node4\" class=\"node\"><title>D</title>\r\n",
       "<ellipse fill=\"none\" stroke=\"black\" cx=\"481.741\" cy=\"-90\" rx=\"59.2899\" ry=\"18\"/>\r\n",
       "<text text-anchor=\"middle\" x=\"481.741\" y=\"-86.3\" font-family=\"Times New Roman,serif\" font-size=\"14.00\">CQ Fin/Govt</text>\r\n",
       "</g>\r\n",
       "<!-- B&#45;&gt;D -->\r\n",
       "<g id=\"edge3\" class=\"edge\"><title>B&#45;&gt;D</title>\r\n",
       "<path fill=\"none\" stroke=\"black\" d=\"M488.516,-143.697C487.525,-135.983 486.333,-126.712 485.227,-118.112\"/>\r\n",
       "<polygon fill=\"black\" stroke=\"black\" points=\"488.687,-117.576 483.94,-108.104 481.744,-118.469 488.687,-117.576\"/>\r\n",
       "</g>\r\n",
       "<!-- F -->\r\n",
       "<g id=\"node6\" class=\"node\"><title>F</title>\r\n",
       "<ellipse fill=\"none\" stroke=\"black\" cx=\"100.741\" cy=\"-18\" rx=\"100.983\" ry=\"18\"/>\r\n",
       "<text text-anchor=\"middle\" x=\"100.741\" y=\"-14.3\" font-family=\"Times New Roman,serif\" font-size=\"14.00\">WS Fin/Govt/WS Stock</text>\r\n",
       "</g>\r\n",
       "<!-- C&#45;&gt;F -->\r\n",
       "<g id=\"edge5\" class=\"edge\"><title>C&#45;&gt;F</title>\r\n",
       "<path fill=\"none\" stroke=\"black\" d=\"M294.807,-76.8069C257.475,-65.6869 201.88,-49.1264 159.751,-36.5773\"/>\r\n",
       "<polygon fill=\"black\" stroke=\"black\" points=\"160.749,-33.2228 150.166,-33.7223 158.751,-39.9315 160.749,-33.2228\"/>\r\n",
       "</g>\r\n",
       "<!-- I -->\r\n",
       "<g id=\"node9\" class=\"node\"><title>I</title>\r\n",
       "<ellipse fill=\"none\" stroke=\"black\" cx=\"534.741\" cy=\"-18\" rx=\"98.2828\" ry=\"18\"/>\r\n",
       "<text text-anchor=\"middle\" x=\"534.741\" y=\"-14.3\" font-family=\"Times New Roman,serif\" font-size=\"14.00\">WS Fin/Govt/DS Stock</text>\r\n",
       "</g>\r\n",
       "<!-- C&#45;&gt;I -->\r\n",
       "<g id=\"edge6\" class=\"edge\"><title>C&#45;&gt;I</title>\r\n",
       "<path fill=\"none\" stroke=\"black\" d=\"M373.171,-75.8335C403.811,-65.0558 447.525,-49.6791 481.758,-37.6371\"/>\r\n",
       "<polygon fill=\"black\" stroke=\"black\" points=\"483.325,-40.7962 491.597,-34.1762 481.003,-34.1928 483.325,-40.7962\"/>\r\n",
       "</g>\r\n",
       "<!-- G -->\r\n",
       "<g id=\"node7\" class=\"node\"><title>G</title>\r\n",
       "<ellipse fill=\"none\" stroke=\"black\" cx=\"318.741\" cy=\"-18\" rx=\"99.3824\" ry=\"18\"/>\r\n",
       "<text text-anchor=\"middle\" x=\"318.741\" y=\"-14.3\" font-family=\"Times New Roman,serif\" font-size=\"14.00\">CQ Fin/Govt/WS Stock</text>\r\n",
       "</g>\r\n",
       "<!-- D&#45;&gt;G -->\r\n",
       "<g id=\"edge7\" class=\"edge\"><title>D&#45;&gt;G</title>\r\n",
       "<path fill=\"none\" stroke=\"black\" d=\"M448.756,-74.8345C424.729,-64.5162 391.857,-50.3997 365.179,-38.9427\"/>\r\n",
       "<polygon fill=\"black\" stroke=\"black\" points=\"366.228,-35.5841 355.658,-34.854 363.466,-42.0161 366.228,-35.5841\"/>\r\n",
       "</g>\r\n",
       "<!-- J -->\r\n",
       "<g id=\"node10\" class=\"node\"><title>J</title>\r\n",
       "<ellipse fill=\"none\" stroke=\"black\" cx=\"747.741\" cy=\"-18\" rx=\"96.6831\" ry=\"18\"/>\r\n",
       "<text text-anchor=\"middle\" x=\"747.741\" y=\"-14.3\" font-family=\"Times New Roman,serif\" font-size=\"14.00\">CQ Fin/Govt/DS Stock</text>\r\n",
       "</g>\r\n",
       "<!-- D&#45;&gt;J -->\r\n",
       "<g id=\"edge8\" class=\"edge\"><title>D&#45;&gt;J</title>\r\n",
       "<path fill=\"none\" stroke=\"black\" d=\"M525.071,-77.5975C568.317,-66.2169 635.239,-48.6057 684.433,-35.66\"/>\r\n",
       "<polygon fill=\"black\" stroke=\"black\" points=\"685.554,-38.9842 694.334,-33.0544 683.773,-32.2146 685.554,-38.9842\"/>\r\n",
       "</g>\r\n",
       "<!-- E -->\r\n",
       "<g id=\"node5\" class=\"node\"><title>E</title>\r\n",
       "<ellipse fill=\"none\" stroke=\"black\" cx=\"404.741\" cy=\"-162\" rx=\"29.4969\" ry=\"18\"/>\r\n",
       "<text text-anchor=\"middle\" x=\"404.741\" y=\"-158.3\" font-family=\"Times New Roman,serif\" font-size=\"14.00\">Govt</text>\r\n",
       "</g>\r\n",
       "<!-- E&#45;&gt;C -->\r\n",
       "<g id=\"edge2\" class=\"edge\"><title>E&#45;&gt;C</title>\r\n",
       "<path fill=\"none\" stroke=\"black\" d=\"M390.108,-146.155C381.195,-137.112 369.598,-125.347 359.405,-115.007\"/>\r\n",
       "<polygon fill=\"black\" stroke=\"black\" points=\"361.803,-112.454 352.29,-107.789 356.818,-117.368 361.803,-112.454\"/>\r\n",
       "</g>\r\n",
       "<!-- E&#45;&gt;D -->\r\n",
       "<g id=\"edge4\" class=\"edge\"><title>E&#45;&gt;D</title>\r\n",
       "<path fill=\"none\" stroke=\"black\" d=\"M420.696,-146.496C431.03,-137.101 444.711,-124.664 456.502,-113.945\"/>\r\n",
       "<polygon fill=\"black\" stroke=\"black\" points=\"458.878,-116.515 463.923,-107.198 454.169,-111.335 458.878,-116.515\"/>\r\n",
       "</g>\r\n",
       "<!-- H -->\r\n",
       "<g id=\"node8\" class=\"node\"><title>H</title>\r\n",
       "<ellipse fill=\"none\" stroke=\"black\" cx=\"136.741\" cy=\"-90\" rx=\"48.9926\" ry=\"18\"/>\r\n",
       "<text text-anchor=\"middle\" x=\"136.741\" y=\"-86.3\" font-family=\"Times New Roman,serif\" font-size=\"14.00\">WS Stock</text>\r\n",
       "</g>\r\n",
       "<!-- H&#45;&gt;F -->\r\n",
       "<g id=\"edge9\" class=\"edge\"><title>H&#45;&gt;F</title>\r\n",
       "<path fill=\"none\" stroke=\"black\" d=\"M128.026,-72.055C123.887,-64.0067 118.846,-54.2046 114.229,-45.2259\"/>\r\n",
       "<polygon fill=\"black\" stroke=\"black\" points=\"117.312,-43.5675 109.626,-36.2753 111.087,-46.7689 117.312,-43.5675\"/>\r\n",
       "</g>\r\n",
       "<!-- H&#45;&gt;G -->\r\n",
       "<g id=\"edge10\" class=\"edge\"><title>H&#45;&gt;G</title>\r\n",
       "<path fill=\"none\" stroke=\"black\" d=\"M169.279,-76.4854C196.984,-65.8295 237.227,-50.3515 268.977,-38.14\"/>\r\n",
       "<polygon fill=\"black\" stroke=\"black\" points=\"270.458,-41.3206 278.535,-34.464 267.945,-34.7872 270.458,-41.3206\"/>\r\n",
       "</g>\r\n",
       "<!-- K -->\r\n",
       "<g id=\"node11\" class=\"node\"><title>K</title>\r\n",
       "<ellipse fill=\"none\" stroke=\"black\" cx=\"640.741\" cy=\"-90\" rx=\"46.2923\" ry=\"18\"/>\r\n",
       "<text text-anchor=\"middle\" x=\"640.741\" y=\"-86.3\" font-family=\"Times New Roman,serif\" font-size=\"14.00\">DS Stock</text>\r\n",
       "</g>\r\n",
       "<!-- K&#45;&gt;I -->\r\n",
       "<g id=\"edge11\" class=\"edge\"><title>K&#45;&gt;I</title>\r\n",
       "<path fill=\"none\" stroke=\"black\" d=\"M618.261,-74.1548C603.801,-64.6058 584.743,-52.0204 568.484,-41.2832\"/>\r\n",
       "<polygon fill=\"black\" stroke=\"black\" points=\"570.059,-38.1292 559.786,-35.5391 566.202,-43.9704 570.059,-38.1292\"/>\r\n",
       "</g>\r\n",
       "<!-- K&#45;&gt;J -->\r\n",
       "<g id=\"edge12\" class=\"edge\"><title>K&#45;&gt;J</title>\r\n",
       "<path fill=\"none\" stroke=\"black\" d=\"M663.433,-74.1548C678.029,-64.6058 697.267,-52.0204 713.68,-41.2832\"/>\r\n",
       "<polygon fill=\"black\" stroke=\"black\" points=\"716.008,-43.9427 722.46,-35.5391 712.175,-38.0849 716.008,-43.9427\"/>\r\n",
       "</g>\r\n",
       "</g>\r\n",
       "</svg>\r\n"
      ],
      "text/plain": [
       "<graphviz.dot.Digraph at 0xd811caabe0>"
      ]
     },
     "execution_count": 62,
     "metadata": {},
     "output_type": "execute_result"
    }
   ],
   "source": [
    "dot = graphviz.Digraph('Regression Logical Pipeline')\n",
    "dot.node('A', label='WS Fin', style='setlinewidth(0)')\n",
    "dot.node('B', label='CQ Fin')\n",
    "dot.node('C', label='WS Fin/Govt')\n",
    "dot.node('D', label='CQ Fin/Govt')\n",
    "dot.node('E', label='Govt')\n",
    "dot.node('F', label='WS Fin/Govt/WS Stock')\n",
    "dot.node('G', label='CQ Fin/Govt/WS Stock')\n",
    "dot.node('H', label='WS Stock')\n",
    "dot.node('I', label='WS Fin/Govt/DS Stock')\n",
    "dot.node('J', label='CQ Fin/Govt/DS Stock')\n",
    "dot.node('K', label='DS Stock')\n",
    "\n",
    "dot.edges(['AC','EC', 'BD', 'ED', 'CF','CI','DG','DJ','HF','HG','KI','KJ'])\n",
    "dot"
   ]
  },
  {
   "cell_type": "code",
   "execution_count": 61,
   "metadata": {
    "collapsed": true
   },
   "outputs": [],
   "source": [
    "dot.node?"
   ]
  },
  {
   "cell_type": "code",
   "execution_count": 58,
   "metadata": {},
   "outputs": [
    {
     "data": {
      "text/plain": [
       "'test2.pdf'"
      ]
     },
     "execution_count": 58,
     "metadata": {},
     "output_type": "execute_result"
    }
   ],
   "source": [
    "dot = graphviz.Digraph('Regression Logical Pipeline')\n",
    "dot.node('E', label='Govt')\n",
    "c = graphviz.Digraph('clusterA')\n",
    "c.attr('graph', label='Financials')\n",
    "c.node('A', label='WS')\n",
    "c.node('B', label='CQ')\n",
    "dot.subgraph(c)\n",
    "\n",
    "# c = graphviz.Digraph('clusterB')\n",
    "# c.attr('graph', label='Financials/Govt')\n",
    "# c.node('C', label='WS/Govt')\n",
    "# c.node('D', label='CQ/Govt')\n",
    "# dot.subgraph(c)\n",
    "\n",
    "# c = graphviz.Digraph('clusterC')\n",
    "# c.attr('graph', label='Financials/Govt/Stock')\n",
    "# c.node('F', label='WS/Govt/WS')\n",
    "# c.node('G', label='CQ/Govt/WS')\n",
    "# c.node('I', label='WS/Govt/DS')\n",
    "# c.node('J', label='CQ/Govt/DS')\n",
    "# dot.subgraph(c)\n",
    "\n",
    "# c = graphviz.Digraph('clusterD')\n",
    "# c.attr('graph', label='Stock')\n",
    "# c.node('H', label='WS')\n",
    "# c.node('K', label='DS')\n",
    "# dot.subgraph(c)\n",
    "\n",
    "dot.edges(['AC','EC', 'BD', 'ED', 'CF','CI','DG','DJ','HF','HG','KI','KJ'])\n",
    "pic_path = r'C:\\Users\\derobertisna.UFAD\\Dropbox (Personal)\\Python\\Dero\\temp.svg'\n",
    "dot.node_attr.update(image=pic_path)\n",
    "dot.render('test2')"
   ]
  },
  {
   "cell_type": "code",
   "execution_count": 84,
   "metadata": {},
   "outputs": [
    {
     "name": "stdout",
     "output_type": "stream",
     "text": [
      "graph \"Data Overview\" {\n",
      "\tgraph [compound=true]\n",
      "\t\tsubgraph clusterA {\n",
      "\t\t\tgraph [label=Financials]\n",
      "\t\t\tA [label=WS]\n",
      "\t\t\tB [label=CQ]\n",
      "\t\t}\n",
      "\t\tsubgraph clusterStock {\n",
      "\t\t\tgraph [style=dotted]\n",
      "\t\t\t\tgraph [label=Stock]\n",
      "\t\t\t\tC [label=WS]\n",
      "\t\t\t\tD [label=DS]\n",
      "\t\t}\n",
      "\t\t\tB -- C\n",
      "}\n"
     ]
    },
    {
     "data": {
      "image/svg+xml": [
       "<?xml version=\"1.0\" encoding=\"UTF-8\" standalone=\"no\"?>\r\n",
       "<!DOCTYPE svg PUBLIC \"-//W3C//DTD SVG 1.1//EN\"\r\n",
       " \"http://www.w3.org/Graphics/SVG/1.1/DTD/svg11.dtd\">\r\n",
       "<!-- Generated by graphviz version 2.38.0 (20140413.2041)\r\n",
       " -->\r\n",
       "<!-- Title: Data Overview Pages: 1 -->\r\n",
       "<svg width=\"238pt\" height=\"182pt\"\r\n",
       " viewBox=\"0.00 0.00 238.00 182.00\" xmlns=\"http://www.w3.org/2000/svg\" xmlns:xlink=\"http://www.w3.org/1999/xlink\">\r\n",
       "<g id=\"graph0\" class=\"graph\" transform=\"scale(1 1) rotate(0) translate(4 178)\">\r\n",
       "<title>Data Overview</title>\r\n",
       "<polygon fill=\"white\" stroke=\"none\" points=\"-4,4 -4,-178 234,-178 234,4 -4,4\"/>\r\n",
       "<g id=\"clust1\" class=\"cluster\"><title>clusterA</title>\r\n",
       "<polygon fill=\"none\" stroke=\"black\" points=\"80,-91 80,-166 222,-166 222,-91 80,-91\"/>\r\n",
       "<text text-anchor=\"middle\" x=\"151\" y=\"-150.8\" font-family=\"Times New Roman,serif\" font-size=\"14.00\">Financials</text>\r\n",
       "</g>\r\n",
       "<g id=\"clust2\" class=\"cluster\"><title>clusterStock</title>\r\n",
       "<polygon fill=\"none\" stroke=\"black\" stroke-dasharray=\"1,5\" points=\"8,-8 8,-83 150,-83 150,-8 8,-8\"/>\r\n",
       "<text text-anchor=\"middle\" x=\"79\" y=\"-67.8\" font-family=\"Times New Roman,serif\" font-size=\"14.00\">Stock</text>\r\n",
       "</g>\r\n",
       "<!-- A -->\r\n",
       "<g id=\"node1\" class=\"node\"><title>A</title>\r\n",
       "<ellipse fill=\"none\" stroke=\"black\" cx=\"187\" cy=\"-117\" rx=\"27\" ry=\"18\"/>\r\n",
       "<text text-anchor=\"middle\" x=\"187\" y=\"-113.3\" font-family=\"Times New Roman,serif\" font-size=\"14.00\">WS</text>\r\n",
       "</g>\r\n",
       "<!-- B -->\r\n",
       "<g id=\"node2\" class=\"node\"><title>B</title>\r\n",
       "<ellipse fill=\"none\" stroke=\"black\" cx=\"115\" cy=\"-117\" rx=\"27\" ry=\"18\"/>\r\n",
       "<text text-anchor=\"middle\" x=\"115\" y=\"-113.3\" font-family=\"Times New Roman,serif\" font-size=\"14.00\">CQ</text>\r\n",
       "</g>\r\n",
       "<!-- C -->\r\n",
       "<g id=\"node3\" class=\"node\"><title>C</title>\r\n",
       "<ellipse fill=\"none\" stroke=\"black\" cx=\"115\" cy=\"-34\" rx=\"27\" ry=\"18\"/>\r\n",
       "<text text-anchor=\"middle\" x=\"115\" y=\"-30.3\" font-family=\"Times New Roman,serif\" font-size=\"14.00\">WS</text>\r\n",
       "</g>\r\n",
       "<!-- B&#45;&#45;C -->\r\n",
       "<g id=\"edge1\" class=\"edge\"><title>B&#45;&#45;C</title>\r\n",
       "<path fill=\"none\" stroke=\"black\" d=\"M115,-98.822C115,-85.076 115,-65.8927 115,-52.1533\"/>\r\n",
       "</g>\r\n",
       "<!-- D -->\r\n",
       "<g id=\"node4\" class=\"node\"><title>D</title>\r\n",
       "<ellipse fill=\"none\" stroke=\"black\" cx=\"43\" cy=\"-34\" rx=\"27\" ry=\"18\"/>\r\n",
       "<text text-anchor=\"middle\" x=\"43\" y=\"-30.3\" font-family=\"Times New Roman,serif\" font-size=\"14.00\">DS</text>\r\n",
       "</g>\r\n",
       "</g>\r\n",
       "</svg>\r\n"
      ],
      "text/plain": [
       "<graphviz.dot.Graph at 0x45dd56ff28>"
      ]
     },
     "execution_count": 84,
     "metadata": {},
     "output_type": "execute_result"
    }
   ],
   "source": [
    "dot = graphviz.Graph('Data Overview', graph_attr={'compound': 'true'})\n",
    "s = graphviz.Graph('clusterA')\n",
    "s.attr('graph', label='Financials')\n",
    "s.node('A', label='WS')\n",
    "s.node('B', label='CQ')\n",
    "dot.subgraph(s)\n",
    "s = graphviz.Graph('clusterStock', graph_attr={'style': 'dotted'})\n",
    "s.attr('graph', label='Stock')\n",
    "s.node('C', label='WS')\n",
    "s.node('D', label='DS')\n",
    "dot.subgraph(s)\n",
    "dot.edge('B','C') #, ltail='clusterA', lhead='clusterStock')\n",
    "# dot.edges(['AC','EC', 'BD', 'ED', 'CF','CI','DG','DJ','HF','HG','KI','KJ'])\n",
    "print(dot.source)\n",
    "dot"
   ]
  },
  {
   "cell_type": "code",
   "execution_count": 92,
   "metadata": {},
   "outputs": [
    {
     "data": {
      "text/plain": [
       "[('a', 'c'), ('a', 'd'), ('b', 'c'), ('b', 'd')]"
      ]
     },
     "execution_count": 92,
     "metadata": {},
     "output_type": "execute_result"
    }
   ],
   "source": [
    "import itertools\n",
    "\n",
    "first = ['a', 'b']\n",
    "second = ['c', 'd']\n",
    "\n",
    "[i for i in itertools.product(first, second)]"
   ]
  },
  {
   "cell_type": "code",
   "execution_count": 95,
   "metadata": {},
   "outputs": [
    {
     "data": {
      "text/plain": [
       "('', 'andyeah')"
      ]
     },
     "execution_count": 95,
     "metadata": {},
     "output_type": "execute_result"
    }
   ],
   "source": [
    "def _combined_name_to_input_and_merge_name(combined_name):\n",
    "    parts = combined_name.split('/')\n",
    "    return '/'.join(parts[:-1]), parts[-1]\n",
    "\n",
    "_combined_name_to_input_and_merge_name('andyeah')"
   ]
  },
  {
   "cell_type": "code",
   "execution_count": 91,
   "metadata": {},
   "outputs": [
    {
     "data": {
      "text/plain": [
       "[('a', 'c')]"
      ]
     },
     "execution_count": 91,
     "metadata": {},
     "output_type": "execute_result"
    }
   ],
   "source": [
    "import itertools\n",
    "\n",
    "first = ['a']\n",
    "second = ['c']\n",
    "last = ['d','e']\n",
    "\n",
    "[i for i in itertools.product(first, second)]"
   ]
  },
  {
   "cell_type": "code",
   "execution_count": 1,
   "metadata": {},
   "outputs": [
    {
     "name": "stderr",
     "output_type": "stream",
     "text": [
      "C:\\ProgramData\\Anaconda3\\lib\\site-packages\\statsmodels\\compat\\pandas.py:56: FutureWarning: The pandas.core.datetools module is deprecated and will be removed in a future version. Please use the pandas.tseries module instead.\n",
      "  from pandas.core import datetools\n"
     ]
    }
   ],
   "source": []
  },
  {
   "cell_type": "code",
   "execution_count": 1,
   "metadata": {},
   "outputs": [
    {
     "name": "stderr",
     "output_type": "stream",
     "text": [
      "C:\\ProgramData\\Anaconda3\\lib\\site-packages\\statsmodels\\compat\\pandas.py:56: FutureWarning: The pandas.core.datetools module is deprecated and will be removed in a future version. Please use the pandas.tseries module instead.\n",
      "  from pandas.core import datetools\n"
     ]
    }
   ],
   "source": []
  },
  {
   "cell_type": "code",
   "execution_count": 2,
   "metadata": {
    "collapsed": true
   },
   "outputs": [],
   "source": []
  },
  {
   "cell_type": "code",
   "execution_count": 3,
   "metadata": {},
   "outputs": [
    {
     "data": {
      "text/plain": [
       "'C:\\\\Users\\\\derobertisna.UFAD\\\\Dropbox (Personal)\\\\Worldscope\\\\worldscope_fundq_japan.csv'"
      ]
     },
     "execution_count": 3,
     "metadata": {},
     "output_type": "execute_result"
    }
   ],
   "source": []
  },
  {
   "cell_type": "code",
   "execution_count": 5,
   "metadata": {},
   "outputs": [
    {
     "data": {
      "text/plain": [
       "'C:\\\\Users\\\\derobertisna.UFAD\\\\Dropbox (Personal)\\\\UF\\\\Andy\\\\ETF Project\\\\Data'"
      ]
     },
     "execution_count": 5,
     "metadata": {},
     "output_type": "execute_result"
    }
   ],
   "source": [
    "from maindata.combine.merge import _load_capiq_financials, _load_capiq_ids\n",
    "\n",
    "from dero.config import data_path_func, dropbox_path_func, etf_project_path\n",
    "\n",
    "worldscope_path = data_path_func('Worldscope')\n",
    "capiq_path = dropbox_path_func(r'UF\\Andy\\ETF Project\\Data\\CapitalIQ')\n",
    "dstream_path = dropbox_path_func(r'UF\\Andy\\ETF Project\\Data\\Datastream')\n",
    "\n",
    "filepaths = {\n",
    "    'Worldscope': {\n",
    "        'Financials': worldscope_path('worldscope_fundq_japan.csv'),\n",
    "        'Stock': worldscope_path('worldscope_stock_long.csv')\n",
    "    },\n",
    "    'CapitalIQ': {\n",
    "        'data': capiq_path('test capiq data.csv')\n",
    "        'id': capiq_path('all capiq ids.csv')\n",
    "    },\n",
    "    'Datastream': dstream_path('test datastream clean.csv')\n",
    "}\n",
    "\n",
    "df = _load_capiq_financials(capiq_filepaths['data'], usecols=keep_vars.variables)\n",
    "_temp_rename_variables_in_df(df)\n",
    "df = dero.pandas.year_month_from_date(df)\n",
    "\n",
    "def _merge_other_ids_to_capiq(df, capiq_ids_filepath, cq_var='CQID'):\n",
    "    \"\"\"\n",
    "    Note: this will multiply the dataset as there are multiple id vars per CQID\n",
    "    \"\"\"\n",
    "    ids_df = _load_capiq_ids(capiq_ids_filepath)\n",
    "    return df.merge(ids_df, how='left', on=cq_var)\n",
    "\n",
    "df = _merge_other_ids_to_capiq(df, capiq_filepaths['id'])"
   ]
  },
  {
   "cell_type": "code",
   "execution_count": 2,
   "metadata": {},
   "outputs": [],
   "source": [
    "from dero.data.compareids import Pipeline, LogicalPipeline, DataPipeline, PipelineOptions, DataSource, DataSubject, \\\n",
    "    Step, MergeStep, Process\n",
    "\n",
    "def _dummy_load(df, usecols=None):\n",
    "    if usecols is None:\n",
    "        return df\n",
    "    return df[usecols]\n",
    "\n",
    "begin_data_subject = DataSubject(\n",
    "    DataSource(\n",
    "        'WorldScope F',\n",
    "        id_cols=['ISIN'],\n",
    "        data_source=filepaths['Worldscope']['Financials']\n",
    "    ),\n",
    "    DataSource(\n",
    "        'CapitalIQ'\n",
    "        id_cols=['ISIN'],\n",
    "        data_source=df,\n",
    "        data_loader=_dummy_load\n",
    "    ),\n",
    "    name='Financials'\n",
    ")\n",
    "\n",
    "merge_data_subject = DataSubject(\n",
    "    DataSource(\n",
    "        'WorldScope S'\n",
    "        id_cols=['ISIN'],\n",
    "        data_source=filepaths['Worldscope']['Stock']\n",
    "    ),\n",
    "    DataSource(\n",
    "        'Datastream'\n",
    "        id_cols=['ISIN'],\n",
    "        data_source=filepaths['Datastream']\n",
    "    ),\n",
    "    name='Stock'\n",
    ")\n",
    "\n",
    "process = Process(\n",
    "    Step(\n",
    "        begin_data_subject\n",
    "    ),\n",
    "    MergeStep(\n",
    "        begin_data_subject,\n",
    "        merge_data_subject\n",
    "    )\n",
    ") \n",
    "\n",
    "pipeline_options = PipelineOptions(\n",
    "    data_sources=True\n",
    ")\n",
    "\n",
    "pipeline = Pipeline(\n",
    "    process,\n",
    "    pipeline_options,\n",
    "    name='Regression Pipeline'\n",
    ")"
   ]
  },
  {
   "cell_type": "code",
   "execution_count": 3,
   "metadata": {},
   "outputs": [
    {
     "data": {
      "image/svg+xml": [
       "<?xml version=\"1.0\" encoding=\"UTF-8\" standalone=\"no\"?>\r\n",
       "<!DOCTYPE svg PUBLIC \"-//W3C//DTD SVG 1.1//EN\"\r\n",
       " \"http://www.w3.org/Graphics/SVG/1.1/DTD/svg11.dtd\">\r\n",
       "<!-- Generated by graphviz version 2.38.0 (20140413.2041)\r\n",
       " -->\r\n",
       "<!-- Title: Regression Pipeline Pages: 1 -->\r\n",
       "<svg width=\"939pt\" height=\"182pt\"\r\n",
       " viewBox=\"0.00 0.00 939.00 182.00\" xmlns=\"http://www.w3.org/2000/svg\" xmlns:xlink=\"http://www.w3.org/1999/xlink\">\r\n",
       "<g id=\"graph0\" class=\"graph\" transform=\"scale(1 1) rotate(0) translate(4 178)\">\r\n",
       "<title>Regression Pipeline</title>\r\n",
       "<polygon fill=\"white\" stroke=\"none\" points=\"-4,4 -4,-178 935,-178 935,4 -4,4\"/>\r\n",
       "<g id=\"clust3\" class=\"cluster\"><title>clusterStock</title>\r\n",
       "<polygon fill=\"none\" stroke=\"black\" points=\"506,-91 506,-166 774,-166 774,-91 506,-91\"/>\r\n",
       "<text text-anchor=\"middle\" x=\"640\" y=\"-150.8\" font-family=\"Times New Roman,serif\" font-size=\"14.00\">Stock</text>\r\n",
       "</g>\r\n",
       "<g id=\"clust1\" class=\"cluster\"><title>clusterFinancials</title>\r\n",
       "<polygon fill=\"none\" stroke=\"black\" points=\"240,-91 240,-166 498,-166 498,-91 240,-91\"/>\r\n",
       "<text text-anchor=\"middle\" x=\"369\" y=\"-150.8\" font-family=\"Times New Roman,serif\" font-size=\"14.00\">Financials</text>\r\n",
       "</g>\r\n",
       "<g id=\"clust2\" class=\"cluster\"><title>clusterFinancials/Stock</title>\r\n",
       "<polygon fill=\"none\" stroke=\"black\" points=\"8,-8 8,-83 923,-83 923,-8 8,-8\"/>\r\n",
       "<text text-anchor=\"middle\" x=\"465.5\" y=\"-67.8\" font-family=\"Times New Roman,serif\" font-size=\"14.00\">Financials/Stock</text>\r\n",
       "</g>\r\n",
       "<!-- WorldScope F -->\r\n",
       "<g id=\"node1\" class=\"node\"><title>WorldScope F</title>\r\n",
       "<ellipse fill=\"none\" stroke=\"black\" cx=\"424\" cy=\"-117\" rx=\"65.7887\" ry=\"18\"/>\r\n",
       "<text text-anchor=\"middle\" x=\"424\" y=\"-113.3\" font-family=\"Times New Roman,serif\" font-size=\"14.00\">WorldScope F</text>\r\n",
       "</g>\r\n",
       "<!-- WorldScope F/WorldScope S -->\r\n",
       "<g id=\"node3\" class=\"node\"><title>WorldScope F/WorldScope S</title>\r\n",
       "<ellipse fill=\"none\" stroke=\"black\" cx=\"793\" cy=\"-34\" rx=\"122.379\" ry=\"18\"/>\r\n",
       "<text text-anchor=\"middle\" x=\"793\" y=\"-30.3\" font-family=\"Times New Roman,serif\" font-size=\"14.00\">WorldScope F/WorldScope S</text>\r\n",
       "</g>\r\n",
       "<!-- WorldScope F&#45;&gt;WorldScope F/WorldScope S -->\r\n",
       "<g id=\"edge1\" class=\"edge\"><title>WorldScope F&#45;&gt;WorldScope F/WorldScope S</title>\r\n",
       "<path fill=\"none\" stroke=\"black\" d=\"M460.792,-102.038C473.646,-97.7444 488.289,-93.4958 502,-91 572.049,-78.2487 592.228,-97.1864 662,-83 691.546,-76.9926 723.331,-65.4788 748.192,-55.2337\"/>\r\n",
       "<polygon fill=\"black\" stroke=\"black\" points=\"749.842,-58.3371 757.705,-51.2367 747.13,-51.8836 749.842,-58.3371\"/>\r\n",
       "</g>\r\n",
       "<!-- WorldScope F/Datastream -->\r\n",
       "<g id=\"node4\" class=\"node\"><title>WorldScope F/Datastream</title>\r\n",
       "<ellipse fill=\"none\" stroke=\"black\" cx=\"544\" cy=\"-34\" rx=\"108.581\" ry=\"18\"/>\r\n",
       "<text text-anchor=\"middle\" x=\"544\" y=\"-30.3\" font-family=\"Times New Roman,serif\" font-size=\"14.00\">WorldScope F/Datastream</text>\r\n",
       "</g>\r\n",
       "<!-- WorldScope F&#45;&gt;WorldScope F/Datastream -->\r\n",
       "<g id=\"edge3\" class=\"edge\"><title>WorldScope F&#45;&gt;WorldScope F/Datastream</title>\r\n",
       "<path fill=\"none\" stroke=\"black\" d=\"M447.708,-99.997C465.677,-87.8681 490.602,-71.0439 510.591,-57.5514\"/>\r\n",
       "<polygon fill=\"black\" stroke=\"black\" points=\"512.771,-60.302 519.102,-51.8063 508.855,-54.5001 512.771,-60.302\"/>\r\n",
       "</g>\r\n",
       "<!-- CapitalIQ -->\r\n",
       "<g id=\"node2\" class=\"node\"><title>CapitalIQ</title>\r\n",
       "<ellipse fill=\"none\" stroke=\"black\" cx=\"294\" cy=\"-117\" rx=\"46.2923\" ry=\"18\"/>\r\n",
       "<text text-anchor=\"middle\" x=\"294\" y=\"-113.3\" font-family=\"Times New Roman,serif\" font-size=\"14.00\">CapitalIQ</text>\r\n",
       "</g>\r\n",
       "<!-- CapitalIQ/WorldScope S -->\r\n",
       "<g id=\"node5\" class=\"node\"><title>CapitalIQ/WorldScope S</title>\r\n",
       "<ellipse fill=\"none\" stroke=\"black\" cx=\"315\" cy=\"-34\" rx=\"102.882\" ry=\"18\"/>\r\n",
       "<text text-anchor=\"middle\" x=\"315\" y=\"-30.3\" font-family=\"Times New Roman,serif\" font-size=\"14.00\">CapitalIQ/WorldScope S</text>\r\n",
       "</g>\r\n",
       "<!-- CapitalIQ&#45;&gt;CapitalIQ/WorldScope S -->\r\n",
       "<g id=\"edge5\" class=\"edge\"><title>CapitalIQ&#45;&gt;CapitalIQ/WorldScope S</title>\r\n",
       "<path fill=\"none\" stroke=\"black\" d=\"M298.454,-98.822C301.238,-88.0829 304.882,-74.0252 308.042,-61.8374\"/>\r\n",
       "<polygon fill=\"black\" stroke=\"black\" points=\"311.431,-62.7116 310.553,-52.1533 304.655,-60.9548 311.431,-62.7116\"/>\r\n",
       "</g>\r\n",
       "<!-- CapitalIQ/Datastream -->\r\n",
       "<g id=\"node6\" class=\"node\"><title>CapitalIQ/Datastream</title>\r\n",
       "<ellipse fill=\"none\" stroke=\"black\" cx=\"105\" cy=\"-34\" rx=\"89.0842\" ry=\"18\"/>\r\n",
       "<text text-anchor=\"middle\" x=\"105\" y=\"-30.3\" font-family=\"Times New Roman,serif\" font-size=\"14.00\">CapitalIQ/Datastream</text>\r\n",
       "</g>\r\n",
       "<!-- CapitalIQ&#45;&gt;CapitalIQ/Datastream -->\r\n",
       "<g id=\"edge7\" class=\"edge\"><title>CapitalIQ&#45;&gt;CapitalIQ/Datastream</title>\r\n",
       "<path fill=\"none\" stroke=\"black\" d=\"M259.955,-104.631C242.717,-98.6279 221.561,-90.8842 203,-83 183.579,-74.7508 162.508,-64.5941 144.898,-55.7511\"/>\r\n",
       "<polygon fill=\"black\" stroke=\"black\" points=\"146.006,-52.3889 135.503,-50.9939 142.843,-58.634 146.006,-52.3889\"/>\r\n",
       "</g>\r\n",
       "<!-- WorldScope S -->\r\n",
       "<g id=\"node7\" class=\"node\"><title>WorldScope S</title>\r\n",
       "<ellipse fill=\"none\" stroke=\"black\" cx=\"700\" cy=\"-117\" rx=\"65.7887\" ry=\"18\"/>\r\n",
       "<text text-anchor=\"middle\" x=\"700\" y=\"-113.3\" font-family=\"Times New Roman,serif\" font-size=\"14.00\">WorldScope S</text>\r\n",
       "</g>\r\n",
       "<!-- WorldScope S&#45;&gt;WorldScope F/WorldScope S -->\r\n",
       "<g id=\"edge2\" class=\"edge\"><title>WorldScope S&#45;&gt;WorldScope F/WorldScope S</title>\r\n",
       "<path fill=\"none\" stroke=\"black\" d=\"M718.82,-99.6084C732.379,-87.7988 750.875,-71.6891 766.006,-58.5107\"/>\r\n",
       "<polygon fill=\"black\" stroke=\"black\" points=\"768.326,-61.1319 773.568,-51.9248 763.728,-55.8533 768.326,-61.1319\"/>\r\n",
       "</g>\r\n",
       "<!-- WorldScope S&#45;&gt;CapitalIQ/WorldScope S -->\r\n",
       "<g id=\"edge6\" class=\"edge\"><title>WorldScope S&#45;&gt;CapitalIQ/WorldScope S</title>\r\n",
       "<path fill=\"none\" stroke=\"black\" d=\"M664.299,-101.821C652.035,-97.5657 638.096,-93.3961 625,-91 537.93,-75.069 512.301,-102.676 426,-83 400.97,-77.2934 374.528,-66.0878 353.733,-55.938\"/>\r\n",
       "<polygon fill=\"black\" stroke=\"black\" points=\"355.11,-52.7137 344.601,-51.3725 351.98,-58.9749 355.11,-52.7137\"/>\r\n",
       "</g>\r\n",
       "<!-- Datastream -->\r\n",
       "<g id=\"node8\" class=\"node\"><title>Datastream</title>\r\n",
       "<ellipse fill=\"none\" stroke=\"black\" cx=\"565\" cy=\"-117\" rx=\"51.1914\" ry=\"18\"/>\r\n",
       "<text text-anchor=\"middle\" x=\"565\" y=\"-113.3\" font-family=\"Times New Roman,serif\" font-size=\"14.00\">Datastream</text>\r\n",
       "</g>\r\n",
       "<!-- Datastream&#45;&gt;WorldScope F/Datastream -->\r\n",
       "<g id=\"edge4\" class=\"edge\"><title>Datastream&#45;&gt;WorldScope F/Datastream</title>\r\n",
       "<path fill=\"none\" stroke=\"black\" d=\"M560.546,-98.822C557.762,-88.0829 554.118,-74.0252 550.958,-61.8374\"/>\r\n",
       "<polygon fill=\"black\" stroke=\"black\" points=\"554.345,-60.9548 548.447,-52.1533 547.569,-62.7116 554.345,-60.9548\"/>\r\n",
       "</g>\r\n",
       "<!-- Datastream&#45;&gt;CapitalIQ/Datastream -->\r\n",
       "<g id=\"edge8\" class=\"edge\"><title>Datastream&#45;&gt;CapitalIQ/Datastream</title>\r\n",
       "<path fill=\"none\" stroke=\"black\" d=\"M536.171,-102.097C525.662,-97.6956 513.527,-93.3638 502,-91 436.887,-77.6477 267.546,-98.8707 203,-83 180.754,-77.53 157.658,-66.518 139.479,-56.42\"/>\r\n",
       "<polygon fill=\"black\" stroke=\"black\" points=\"140.87,-53.1833 130.452,-51.2568 137.395,-59.2597 140.87,-53.1833\"/>\r\n",
       "</g>\r\n",
       "</g>\r\n",
       "</svg>\r\n"
      ],
      "text/plain": [
       "<graphviz.dot.Digraph at 0x5761da2c88>"
      ]
     },
     "execution_count": 3,
     "metadata": {},
     "output_type": "execute_result"
    }
   ],
   "source": [
    "pipeline.build_graph()"
   ]
  },
  {
   "cell_type": "code",
   "execution_count": 4,
   "metadata": {},
   "outputs": [
    {
     "data": {
      "text/plain": [
       "<Step(data_subject=<DataSubject(name=Financials, sources=(<DataSource(name=WorldScope, filepath=None)>, <DataSource(name=CapitalIQ, filepath=None)>))>)>"
      ]
     },
     "execution_count": 4,
     "metadata": {},
     "output_type": "execute_result"
    }
   ],
   "source": [
    "pipeline.process.steps[0]"
   ]
  },
  {
   "cell_type": "code",
   "execution_count": 4,
   "metadata": {},
   "outputs": [
    {
     "name": "stdout",
     "output_type": "stream",
     "text": [
      "> c:\\users\\derobertisna.ufad\\dropbox (personal)\\python\\dero\\dero\\ext_matplotlib\\compareids\\models\\main.py(27)<listcomp>()\n",
      "-> [elem.add_to_graph(graph) for elem in graph_elements]\n",
      "(Pdb) graph_elements\n",
      "*** NameError: name 'graph_elements' is not defined\n",
      "(Pdb) u\n",
      "> c:\\users\\derobertisna.ufad\\dropbox (personal)\\python\\dero\\dero\\ext_matplotlib\\compareids\\models\\main.py(27)build_graph()\n",
      "-> [elem.add_to_graph(graph) for elem in graph_elements]\n",
      "(Pdb) graph_elements\n",
      "[<Subgraph(nodes=<NodeCollection(nodes=(<Node(name=FinancialsDUMMY)>,))>)>, <Subgraph(nodes=<NodeCollection(nodes=(<Node(name=Financials/StockDUMMY)>,))>)>, <Subgraph(nodes=<NodeCollection(nodes=(<Node(name=FinancialsDUMMY)>,))>)>, <Subgraph(nodes=<NodeCollection(nodes=(<Node(name=StockDUMMY)>,))>)>, [<Edge(start=<Node(name=FinancialsDUMMY)>, end=<Node(name=Financials/StockDUMMY)>, edge_kwargs: {'ltail': 'Financials', 'lhead': 'Financials/Stock'})>, <Edge(start=<Node(name=StockDUMMY)>, end=<Node(name=Financials/StockDUMMY)>, edge_kwargs: {'ltail': 'Stock', 'lhead': 'Financials/Stock'})>]]\n",
      "(Pdb) edges\n",
      "[[<Edge(start=<Node(name=FinancialsDUMMY)>, end=<Node(name=Financials/StockDUMMY)>, edge_kwargs: {'ltail': 'Financials', 'lhead': 'Financials/Stock'})>, <Edge(start=<Node(name=StockDUMMY)>, end=<Node(name=Financials/StockDUMMY)>, edge_kwargs: {'ltail': 'Stock', 'lhead': 'Financials/Stock'})>]]\n",
      "(Pdb) q\n"
     ]
    }
   ],
   "source": [
    "import pdb\n",
    "pdb.pm()"
   ]
  },
  {
   "cell_type": "code",
   "execution_count": 52,
   "metadata": {
    "collapsed": true
   },
   "outputs": [],
   "source": [
    "s.attr?"
   ]
  },
  {
   "cell_type": "code",
   "execution_count": 46,
   "metadata": {
    "collapsed": true
   },
   "outputs": [],
   "source": [
    "dot.subgraph?`"
   ]
  },
  {
   "cell_type": "code",
   "execution_count": 18,
   "metadata": {
    "collapsed": true
   },
   "outputs": [],
   "source": [
    "dot.node('C', label='', image='temp.png')"
   ]
  },
  {
   "cell_type": "code",
   "execution_count": 27,
   "metadata": {},
   "outputs": [
    {
     "data": {
      "text/plain": [
       "'test.pdf'"
      ]
     },
     "execution_count": 27,
     "metadata": {},
     "output_type": "execute_result"
    }
   ],
   "source": [
    "dot.render('test')"
   ]
  },
  {
   "cell_type": "code",
   "execution_count": 3,
   "metadata": {
    "collapsed": true
   },
   "outputs": [],
   "source": [
    "%matplotlib inline"
   ]
  },
  {
   "cell_type": "code",
   "execution_count": 1,
   "metadata": {},
   "outputs": [
    {
     "name": "stderr",
     "output_type": "stream",
     "text": [
      "C:\\ProgramData\\Anaconda3\\lib\\site-packages\\statsmodels\\compat\\pandas.py:56: FutureWarning: The pandas.core.datetools module is deprecated and will be removed in a future version. Please use the pandas.tseries module instead.\n",
      "  from pandas.core import datetools\n"
     ]
    }
   ],
   "source": [
    "from dero.ext_matplotlib import MatchComparisonBarData, MatchComparisonBarGraph"
   ]
  },
  {
   "cell_type": "code",
   "execution_count": 3,
   "metadata": {},
   "outputs": [
    {
     "name": "stderr",
     "output_type": "stream",
     "text": [
      "C:\\ProgramData\\Anaconda3\\lib\\site-packages\\statsmodels\\compat\\pandas.py:56: FutureWarning: The pandas.core.datetools module is deprecated and will be removed in a future version. Please use the pandas.tseries module instead.\n",
      "  from pandas.core import datetools\n"
     ]
    },
    {
     "name": "stdout",
     "output_type": "stream",
     "text": [
      "3 ids from A in B.\n",
      "3 ids from B in A.\n",
      "\n"
     ]
    }
   ],
   "source": [
    "import dero\n",
    "\n",
    "ids1 = [1,2,3,4,5,6]\n",
    "ids2 = [2,4,6,8,10]\n",
    "\n",
    "print(dero.data.compareids._compare_idlists_and_output_summary(ids1, ids2, 'A', 'B'))"
   ]
  },
  {
   "cell_type": "code",
   "execution_count": 4,
   "metadata": {},
   "outputs": [],
   "source": [
    "set1 = set(ids1)\n",
    "set2 = set(ids2)"
   ]
  },
  {
   "cell_type": "code",
   "execution_count": 9,
   "metadata": {},
   "outputs": [
    {
     "data": {
      "text/plain": [
       "{1, 2, 3, 4, 5, 6}"
      ]
     },
     "execution_count": 9,
     "metadata": {},
     "output_type": "execute_result"
    }
   ],
   "source": [
    "set1"
   ]
  },
  {
   "cell_type": "code",
   "execution_count": 13,
   "metadata": {},
   "outputs": [
    {
     "name": "stdout",
     "output_type": "stream",
     "text": [
      "The slowest run took 11.35 times longer than the fastest. This could mean that an intermediate result is being cached.\n",
      "1000000 loops, best of 3: 266 ns per loop\n"
     ]
    }
   ],
   "source": [
    "%timeit len(set1.intersection(set2))"
   ]
  },
  {
   "cell_type": "code",
   "execution_count": 6,
   "metadata": {},
   "outputs": [
    {
     "data": {
      "text/plain": [
       "{1, 3, 5}"
      ]
     },
     "execution_count": 6,
     "metadata": {},
     "output_type": "execute_result"
    }
   ],
   "source": [
    "set1.difference(set2)"
   ]
  },
  {
   "cell_type": "code",
   "execution_count": 7,
   "metadata": {},
   "outputs": [
    {
     "data": {
      "text/plain": [
       "{8, 10}"
      ]
     },
     "execution_count": 7,
     "metadata": {},
     "output_type": "execute_result"
    }
   ],
   "source": [
    "set2.difference(set1)"
   ]
  },
  {
   "cell_type": "code",
   "execution_count": 14,
   "metadata": {},
   "outputs": [
    {
     "name": "stdout",
     "output_type": "stream",
     "text": [
      "1000000 loops, best of 3: 771 ns per loop\n"
     ]
    }
   ],
   "source": [
    "%timeit len([id_ for id_ in ids1 if id_ in ids2])"
   ]
  },
  {
   "cell_type": "code",
   "execution_count": 5,
   "metadata": {},
   "outputs": [
    {
     "data": {
      "text/plain": [
       "'6 ids in A'"
      ]
     },
     "execution_count": 5,
     "metadata": {},
     "output_type": "execute_result"
    }
   ],
   "source": [
    "dero.data.compareids._separate_summary('A', ids1)"
   ]
  },
  {
   "cell_type": "code",
   "execution_count": 6,
   "metadata": {},
   "outputs": [],
   "source": [
    "from dero.data.compareids.models.interface import MatchComparisonBarData, MatchComparisonBarGraphData, IDComparisonCollection\n",
    "import math\n",
    "\n",
    "class MatchComparisonBar:\n",
    "\n",
    "    def __init__(self, data: MatchComparisonBarData):\n",
    "        self.data = data\n",
    "\n",
    "class BarText:\n",
    "\n",
    "    def __init__(self, label, bar_length, total_length, xy=(0,0), **text_kwargs):\n",
    "        self.label = label\n",
    "        self.bar_length = bar_length\n",
    "        self.total_length = total_length\n",
    "        self.xy = xy\n",
    "        self.text_kwargs = text_kwargs\n",
    "        self.shifted = False\n",
    "\n",
    "    def draw(self, plt=None, bar_num=0):\n",
    "        \"\"\"\n",
    "\n",
    "        :param plt:\n",
    "        :type plt:\n",
    "        :param bar_num: position of bar within triple bar. i.e. a single bar has three bars in it. 0 is the left.\n",
    "            1 is the middle, and 2 is the right.\n",
    "        :type bar_num: int\n",
    "        :return:\n",
    "        :rtype:\n",
    "        \"\"\"\n",
    "        if plt is None:\n",
    "            import matplotlib.pyplot as plt\n",
    "\n",
    "        self._set_position(bar_num)\n",
    "        self._set_text_kwarg_defaults()\n",
    "        plt.annotate(self.label, xy=self.xy, xytext=self.text_pos, **self.text_kwargs)\n",
    "\n",
    "    def _set_position(self, bar_num):\n",
    "        \"\"\"\n",
    "        Determine postion of text depending on length of bar and length of text\n",
    "        :return:\n",
    "        :rtype:\n",
    "        \"\"\"\n",
    "\n",
    "        # TODO: handle when labels are so large that they overlap due to not enough x shift. E.g.\n",
    "        # MatchComparisonBarData(100000000, 100000, 100000, name='Unbalanced')\n",
    "\n",
    "        # Testing shows it takes about 51 numbers to fill a bar\n",
    "        max_digits_total_bar = 51\n",
    "        max_digits_this_bar = math.floor((self.bar_length / self.total_length) * max_digits_total_bar)\n",
    "\n",
    "        # Label fits -- no need to shift\n",
    "        if len(self.label) < max_digits_this_bar:\n",
    "            self.text_pos = self.xy\n",
    "            # self.shifted remains False\n",
    "            return\n",
    "\n",
    "        #Implicit else, label does not fit, need to shift\n",
    "\n",
    "        shift_multiplier = bar_num - 1 #change to -1, 0, 1 instead of 0, 1, 2\n",
    "        rl_shift = 0.1 * self.total_length\n",
    "        x_shift = shift_multiplier * rl_shift\n",
    "\n",
    "        self.text_pos = (self.xy[0] + x_shift, self.xy[1] - 0.35)\n",
    "        self.shifted = True\n",
    "\n",
    "    def _set_text_kwarg_defaults(self):\n",
    "        # Only add arrow if shifted text\n",
    "        if self.shifted:\n",
    "            if 'arrowprops' not in self.text_kwargs:\n",
    "                self.text_kwargs['arrowprops'] = dict(\n",
    "                    width=0.01, facecolor='black', shrink=0.05, headwidth=0\n",
    "                )\n",
    "        if 'horizontalalignment' not in self.text_kwargs:\n",
    "            self.text_kwargs['horizontalalignment'] = 'center'\n",
    "        if 'verticalalignment' not in self.text_kwargs:\n",
    "            self.text_kwargs['verticalalignment'] = 'center'\n",
    "\n",
    "\n",
    "class MatchComparisonBarGraph:\n",
    "\n",
    "    def __init__(self, *bars: [MatchComparisonBarData], plt=None, name=None, relative=True, thickness=0.5):\n",
    "        if plt is None:\n",
    "            import matplotlib.pyplot as plt\n",
    "        self._absolute_bars = bars\n",
    "        self._relative_bars = _convert_bar_data_to_relative(bars)\n",
    "        self.plt = plt\n",
    "        self.thickness = thickness\n",
    "        self.relative = relative\n",
    "        self._set_graph_data(name)\n",
    "\n",
    "    @property\n",
    "    def relative(self):\n",
    "        return self._relative\n",
    "\n",
    "    @relative.setter\n",
    "    def relative(self, relative):\n",
    "        if relative:\n",
    "            self.bars = self._relative_bars\n",
    "        else:\n",
    "            self.bars = self._absolute_bars\n",
    "\n",
    "        self._relative = relative\n",
    "\n",
    "    def _set_graph_data(self, name):\n",
    "        self.graph_data = _convert_bar_data_to_bar_graph_data(self.bars, name=name)\n",
    "        self._set_max_bar_length(self.bars)\n",
    "\n",
    "    def _set_max_bar_length(self, bars):\n",
    "        self.max_len = max([sum(bar) for bar in bars])\n",
    "\n",
    "    def draw(self, plt):\n",
    "        plt.clf() #clear out any previous figures\n",
    "\n",
    "        #### TEMP\n",
    "        # import pdb\n",
    "        # pdb.set_trace()\n",
    "        #### END TEMP\n",
    "\n",
    "        if self.graph_data.name is not None:\n",
    "            _draw_title(plt, self.graph_data.name)\n",
    "        _draw_bars(plt, *self.graph_data, thickness=self.thickness)\n",
    "        _draw_bar_labels(plt, [bar.name for bar in self.bars], self.max_len)\n",
    "        _draw_number_labels(plt, self._absolute_bars, self.max_len, self.relative)\n",
    "        plt.axis('off')\n",
    "        return plt\n",
    "\n",
    "    @classmethod\n",
    "    def from_id_comparison_collection(cls, id_comparison: IDComparisonCollection, plt=None):\n",
    "        if plt is None:\n",
    "            import matplotlib.pyplot as plt\n",
    "        return cls(*[MatchComparisonBarData.from_id_comparison(compare) for compare in id_comparison], name=id_comparison.name, plt=plt)\n",
    "\n",
    "def _convert_bar_data_to_bar_graph_data(data: [MatchComparisonBarData], name=None):\n",
    "    split_items = [items for items in zip(*data)]\n",
    "    return MatchComparisonBarGraphData(*split_items, name=name)\n",
    "\n",
    "def _convert_bar_data_to_relative(data: [MatchComparisonBarData], scale=100):\n",
    "    out_list = []\n",
    "    for bardata in data:\n",
    "        total_items = sum(bardata)\n",
    "        new_bardata = MatchComparisonBarData(*[(item / total_items) * scale for item in bardata], name=bardata.name)\n",
    "        out_list.append(new_bardata)\n",
    "\n",
    "    return out_list\n",
    "\n",
    "def _draw_bars(plt, left_items, match_items, right_items, thickness=0.5):\n",
    "    index = [i for i in range(len(left_items))]\n",
    "\n",
    "    # first bar starts at zero, second bar starts where first left off.\n",
    "    # then add the left and middle bars to get start for last bar\n",
    "    new_lefts = [sum(items) for items in zip(*[left_items, match_items])]\n",
    "\n",
    "    _draw_bars_part(plt, index, left_items, thickness=thickness, left=None)\n",
    "    _draw_bars_part(plt, index, match_items, thickness=thickness, left=left_items)\n",
    "    _draw_bars_part(plt, index, right_items, thickness=thickness, left=new_lefts)\n",
    "\n",
    "\n",
    "def _draw_bars_part(plt, index, items, thickness=0.5, left=None):\n",
    "    return plt.barh(index, items, thickness, left=left)\n",
    "\n",
    "def _draw_title(plt, title):\n",
    "    plt.title(title)\n",
    "\n",
    "def _draw_bar_labels(plt, labels, bar_max_width=5):\n",
    "    [plt.text(-0.05 * bar_max_width, height, label, horizontalalignment='right') for height, label in enumerate(labels)]\n",
    "\n",
    "def _draw_number_labels(plt, bars: [MatchComparisonBarData], max_len, relative=True):\n",
    "    for i, bar in enumerate(bars):\n",
    "        for j, num_label in enumerate(bar):\n",
    "            label = str(num_label)\n",
    "            sum_bar = sum(bar)\n",
    "            if relative:\n",
    "                pos = (bar.midpoints[j]/sum_bar) * max_len\n",
    "                bar_len = (bar[j]/sum_bar) * max_len\n",
    "            else:\n",
    "                pos = bar.midpoints[j]\n",
    "                bar_len = bar[j]\n",
    "            text = BarText(label, bar_len, max_len, xy=(pos, i), horizontalalignment='center', verticalalignment='center')\n",
    "            text.draw(plt, bar_num=j)"
   ]
  },
  {
   "cell_type": "code",
   "execution_count": 8,
   "metadata": {},
   "outputs": [
    {
     "data": {
      "text/plain": [
       "<module 'matplotlib.pyplot' from 'C:\\\\ProgramData\\\\Anaconda3\\\\lib\\\\site-packages\\\\matplotlib\\\\pyplot.py'>"
      ]
     },
     "execution_count": 8,
     "metadata": {},
     "output_type": "execute_result"
    },
    {
     "data": {
      "image/png": "[encoded data removed]",
      "text/plain": [
       "<matplotlib.figure.Figure at 0x9d39eb6860>"
      ]
     },
     "metadata": {},
     "output_type": "display_data"
    }
   ],
   "source": [
    "%matplotlib inline\n",
    "\n",
    "# from dero.data.compareids import MatchComparisonBarData, MatchComparisonBarGraph\n",
    "import matplotlib.pyplot as plt\n",
    "\n",
    "bars = [\n",
    "    MatchComparisonBarData(10, 40, 100, name='ISIN'),\n",
    "    MatchComparisonBarData(55, 80, 5, name='CUSIP6'),\n",
    "    MatchComparisonBarData(10000, 100, 10000, name='Unbalanced')\n",
    "]\n",
    "\n",
    "graph = MatchComparisonBarGraph(*bars, plt=plt, name='Capital IQ Financials/Worldscope Stock')\n",
    "graph.draw(plt)\n",
    "# plt.annotate('5'*51, xy=(0,0))\n",
    "# plt.annotate('hello gov', xy=(80,1), xytext=(120,1), arrowprops=dict(width=0.01, facecolor='black', shrink=0.05, headwidth=0))\n",
    "# plt.savefig('temp.png', bbox_inches='tight')"
   ]
  },
  {
   "cell_type": "code",
   "execution_count": 13,
   "metadata": {},
   "outputs": [
    {
     "data": {
      "text/plain": [
       "Text(0,0,'test')"
      ]
     },
     "execution_count": 13,
     "metadata": {},
     "output_type": "execute_result"
    },
    {
     "data": {
      "image/png": "[encoded data removed]",
      "text/plain": [
       "<matplotlib.figure.Figure at 0x8986b430f0>"
      ]
     },
     "metadata": {},
     "output_type": "display_data"
    }
   ],
   "source": [
    "plt.annotate('test', xy=(1,1), xytext=(0,0), arrowprops=dict(facecolor='black', shrink=0.05))"
   ]
  },
  {
   "cell_type": "code",
   "execution_count": 6,
   "metadata": {},
   "outputs": [
    {
     "name": "stdout",
     "output_type": "stream",
     "text": [
      "19.125 10.0\n"
     ]
    },
    {
     "data": {
      "image/png": "[encoded data removed]",
      "text/plain": [
       "<matplotlib.figure.Figure at 0x8985f38588>"
      ]
     },
     "metadata": {},
     "output_type": "display_data"
    }
   ],
   "source": [
    "f = plt.figure()\n",
    "r = f.canvas.get_renderer()\n",
    "t = plt.text(0.5, 0.5, 'test', size=10)\n",
    "\n",
    "bb = t.get_window_extent(renderer=r)\n",
    "width = bb.width\n",
    "height = bb.height\n",
    "f.text(0.5, 0.5, 'test', size=10)\n",
    "print(width, height)"
   ]
  },
  {
   "cell_type": "code",
   "execution_count": null,
   "metadata": {
    "collapsed": true
   },
   "outputs": [],
   "source": [
    "class Gr"
   ]
  },
  {
   "cell_type": "code",
   "execution_count": 54,
   "metadata": {},
   "outputs": [
    {
     "data": {
      "text/plain": [
       "'a/b'"
      ]
     },
     "execution_count": 54,
     "metadata": {},
     "output_type": "execute_result"
    }
   ],
   "source": [
    "'/'.join(('a','b'))"
   ]
  },
  {
   "cell_type": "code",
   "execution_count": 53,
   "metadata": {},
   "outputs": [
    {
     "data": {
      "text/plain": [
       "{('a', 'b'), ('b', 'c')}"
      ]
     },
     "execution_count": 53,
     "metadata": {},
     "output_type": "execute_result"
    }
   ],
   "source": [
    "set([('a', 'b'), ('b', 'c'), ('a', 'b')])"
   ]
  },
  {
   "cell_type": "code",
   "execution_count": 194,
   "metadata": {},
   "outputs": [
    {
     "ename": "AttributeError",
     "evalue": "'MatchComparisonBarGraph' object has no attribute 'draw'",
     "output_type": "error",
     "traceback": [
      "\u001b[1;31m---------------------------------------------------------------------------\u001b[0m",
      "\u001b[1;31mAttributeError\u001b[0m                            Traceback (most recent call last)",
      "\u001b[1;32m<ipython-input-194-63d61266e2f8>\u001b[0m in \u001b[0;36m<module>\u001b[1;34m()\u001b[0m\n\u001b[0;32m      1\u001b[0m \u001b[0mgraph\u001b[0m \u001b[1;33m=\u001b[0m \u001b[0mMatchComparisonBarGraph\u001b[0m\u001b[1;33m(\u001b[0m\u001b[1;33m*\u001b[0m\u001b[0mbars\u001b[0m\u001b[1;33m,\u001b[0m \u001b[0mplt\u001b[0m\u001b[1;33m=\u001b[0m\u001b[0mplt\u001b[0m\u001b[1;33m,\u001b[0m \u001b[0mrelative\u001b[0m\u001b[1;33m=\u001b[0m\u001b[1;32mFalse\u001b[0m\u001b[1;33m)\u001b[0m\u001b[1;33m\u001b[0m\u001b[0m\n\u001b[1;32m----> 2\u001b[1;33m \u001b[0mgraph\u001b[0m\u001b[1;33m.\u001b[0m\u001b[0mdraw\u001b[0m\u001b[1;33m(\u001b[0m\u001b[0mplt\u001b[0m\u001b[1;33m)\u001b[0m\u001b[1;33m\u001b[0m\u001b[0m\n\u001b[0m",
      "\u001b[1;31mAttributeError\u001b[0m: 'MatchComparisonBarGraph' object has no attribute 'draw'"
     ]
    }
   ],
   "source": [
    "graph = MatchComparisonBarGraph(*bars, plt=plt, relative=False)\n",
    "graph.draw(plt)"
   ]
  },
  {
   "cell_type": "code",
   "execution_count": 16,
   "metadata": {
    "collapsed": true
   },
   "outputs": [],
   "source": [
    "import matplotlib.pyplot as plt"
   ]
  },
  {
   "cell_type": "code",
   "execution_count": 1,
   "metadata": {
    "collapsed": true
   },
   "outputs": [],
   "source": [
    "import uuid"
   ]
  },
  {
   "cell_type": "code",
   "execution_count": null,
   "metadata": {
    "collapsed": true
   },
   "outputs": [],
   "source": [
    "uuid."
   ]
  },
  {
   "cell_type": "code",
   "execution_count": null,
   "metadata": {
    "collapsed": true
   },
   "outputs": [],
   "source": []
  },
  {
   "cell_type": "code",
   "execution_count": null,
   "metadata": {
    "collapsed": true
   },
   "outputs": [],
   "source": []
  },
  {
   "cell_type": "code",
   "execution_count": null,
   "metadata": {
    "collapsed": true
   },
   "outputs": [],
   "source": []
  },
  {
   "cell_type": "code",
   "execution_count": 4,
   "metadata": {},
   "outputs": [],
   "source": [
    "from dero.data.compareids import Pipeline, LogicalPipeline, DataPipeline, PipelineOptions, DataSource, DataSubject, \\\n",
    "    Step, MergeStep, Process\n",
    "\n",
    "begin_data_subject = DataSubject(\n",
    "    DataSource('WorldScope'),\n",
    "    DataSource('Capital IQ'),\n",
    "    name='Financials'\n",
    ")\n",
    "\n",
    "stock_subject = DataSubject(\n",
    "    DataSource('WorldScope'),\n",
    "    DataSource('Datastream'),\n",
    "    name='Stock'\n",
    ")\n",
    "\n",
    "holdings_subject = DataSubject(\n",
    "    DataSource('Morningstar'),\n",
    "    name='Holdings'\n",
    ")\n",
    "\n",
    "first_merge = MergeStep(\n",
    "        begin_data_subject,\n",
    "        holdings_subject\n",
    ")\n",
    "\n",
    "process = Process(\n",
    "    Step(\n",
    "        begin_data_subject\n",
    "    ),\n",
    "    first_merge,\n",
    "    MergeStep(\n",
    "        first_merge.combined_subject,\n",
    "        stock_subject\n",
    "    ),\n",
    "    \n",
    ") \n",
    "\n",
    "pipeline_options = PipelineOptions(\n",
    "    data_sources=True\n",
    ")\n",
    "\n",
    "pipeline = Pipeline(\n",
    "    process,\n",
    "    pipeline_options,\n",
    "    name='Regression Pipeline'\n",
    ")"
   ]
  },
  {
   "cell_type": "code",
   "execution_count": 5,
   "metadata": {},
   "outputs": [
    {
     "name": "stdout",
     "output_type": "stream",
     "text": [
      "> c:\\users\\derobertisna.ufad\\dropbox (personal)\\python\\dero\\dero\\data\\compareids\\models\\datasets.py(111)to_node()\n",
      "-> comparison = self.compare()\n",
      "(Pdb) self.name\n",
      "'WorldScope Financials/Morningstar Holdings'\n",
      "(Pdb) u\n",
      "> c:\\users\\derobertisna.ufad\\dropbox (personal)\\python\\dero\\dero\\data\\compareids\\models\\datasets.py(81)<listcomp>()\n",
      "-> nodes = [source.to_node(**options.node_attr) for source in self.sources]\n",
      "(Pdb) u\n",
      "> c:\\users\\derobertisna.ufad\\dropbox (personal)\\python\\dero\\dero\\data\\compareids\\models\\datasets.py(81)to_nodes()\n",
      "-> nodes = [source.to_node(**options.node_attr) for source in self.sources]\n",
      "(Pdb) u\n",
      "> c:\\users\\derobertisna.ufad\\dropbox (personal)\\python\\dero\\dero\\data\\compareids\\models\\datasets.py(75)to_subgraph()\n",
      "-> nodes = self.to_nodes(options)\n",
      "(Pdb) u\n",
      "> c:\\users\\derobertisna.ufad\\dropbox (personal)\\python\\dero\\dero\\data\\compareids\\models\\steps.py(54)_merge_subgraph()\n",
      "-> return self._combined_subject.to_subgraph(options)\n",
      "(Pdb) u\n",
      "> c:\\users\\derobertisna.ufad\\dropbox (personal)\\python\\dero\\dero\\data\\compareids\\models\\steps.py(41)subgraphs()\n",
      "-> subgraphs.append(self._merge_subgraph(options))\n",
      "(Pdb) u\n",
      "> c:\\users\\derobertisna.ufad\\dropbox (personal)\\python\\dero\\dero\\data\\compareids\\models\\steps.py(81)to_subgraphs()\n",
      "-> subgraphs.extend(step.subgraphs(options)) #contains last subgraph, combined subgraph, and to merge subgraph\n",
      "(Pdb) u\n",
      "> c:\\users\\derobertisna.ufad\\dropbox (personal)\\python\\dero\\dero\\data\\compareids\\models\\main.py(17)build_graph()\n",
      "-> subgraphs = self.process.to_subgraphs(self.options)\n",
      "(Pdb) c\n",
      "> c:\\users\\derobertisna.ufad\\dropbox (personal)\\python\\dero\\dero\\data\\compareids\\models\\datasets.py(111)to_node()\n",
      "-> comparison = self.compare()\n",
      "(Pdb) self.name\n",
      "'Capital IQ Financials/Morningstar Holdings'\n",
      "(Pdb) u\n",
      "> c:\\users\\derobertisna.ufad\\dropbox (personal)\\python\\dero\\dero\\data\\compareids\\models\\datasets.py(81)<listcomp>()\n",
      "-> nodes = [source.to_node(**options.node_attr) for source in self.sources]\n",
      "(Pdb) u\n",
      "> c:\\users\\derobertisna.ufad\\dropbox (personal)\\python\\dero\\dero\\data\\compareids\\models\\datasets.py(81)to_nodes()\n",
      "-> nodes = [source.to_node(**options.node_attr) for source in self.sources]\n",
      "(Pdb) u\n",
      "> c:\\users\\derobertisna.ufad\\dropbox (personal)\\python\\dero\\dero\\data\\compareids\\models\\datasets.py(75)to_subgraph()\n",
      "-> nodes = self.to_nodes(options)\n",
      "(Pdb) u\n",
      "> c:\\users\\derobertisna.ufad\\dropbox (personal)\\python\\dero\\dero\\data\\compareids\\models\\steps.py(54)_merge_subgraph()\n",
      "-> return self._combined_subject.to_subgraph(options)\n",
      "(Pdb) u\n",
      "> c:\\users\\derobertisna.ufad\\dropbox (personal)\\python\\dero\\dero\\data\\compareids\\models\\steps.py(41)subgraphs()\n",
      "-> subgraphs.append(self._merge_subgraph(options))\n",
      "(Pdb) u\n",
      "> c:\\users\\derobertisna.ufad\\dropbox (personal)\\python\\dero\\dero\\data\\compareids\\models\\steps.py(81)to_subgraphs()\n",
      "-> subgraphs.extend(step.subgraphs(options)) #contains last subgraph, combined subgraph, and to merge subgraph\n",
      "(Pdb) u\n",
      "> c:\\users\\derobertisna.ufad\\dropbox (personal)\\python\\dero\\dero\\data\\compareids\\models\\main.py(17)build_graph()\n",
      "-> subgraphs = self.process.to_subgraphs(self.options)\n",
      "(Pdb) c\n",
      "> c:\\users\\derobertisna.ufad\\dropbox (personal)\\python\\dero\\dero\\data\\compareids\\models\\datasets.py(111)to_node()\n",
      "-> comparison = self.compare()\n",
      "(Pdb) self.name\n",
      "'WorldScope Financials/Morningstar Holdings Financials/Holdings/WorldScope Stock'\n",
      "(Pdb) u\n",
      "> c:\\users\\derobertisna.ufad\\dropbox (personal)\\python\\dero\\dero\\data\\compareids\\models\\datasets.py(81)<listcomp>()\n",
      "-> nodes = [source.to_node(**options.node_attr) for source in self.sources]\n",
      "(Pdb) u\n",
      "> c:\\users\\derobertisna.ufad\\dropbox (personal)\\python\\dero\\dero\\data\\compareids\\models\\datasets.py(81)to_nodes()\n",
      "-> nodes = [source.to_node(**options.node_attr) for source in self.sources]\n",
      "(Pdb) u\n",
      "> c:\\users\\derobertisna.ufad\\dropbox (personal)\\python\\dero\\dero\\data\\compareids\\models\\datasets.py(75)to_subgraph()\n",
      "-> nodes = self.to_nodes(options)\n",
      "(Pdb) u\n",
      "> c:\\users\\derobertisna.ufad\\dropbox (personal)\\python\\dero\\dero\\data\\compareids\\models\\steps.py(54)_merge_subgraph()\n",
      "-> return self._combined_subject.to_subgraph(options)\n",
      "(Pdb) u\n",
      "> c:\\users\\derobertisna.ufad\\dropbox (personal)\\python\\dero\\dero\\data\\compareids\\models\\steps.py(41)subgraphs()\n",
      "-> subgraphs.append(self._merge_subgraph(options))\n",
      "(Pdb) u\n",
      "> c:\\users\\derobertisna.ufad\\dropbox (personal)\\python\\dero\\dero\\data\\compareids\\models\\steps.py(81)to_subgraphs()\n",
      "-> subgraphs.extend(step.subgraphs(options)) #contains last subgraph, combined subgraph, and to merge subgraph\n",
      "(Pdb) u\n",
      "> c:\\users\\derobertisna.ufad\\dropbox (personal)\\python\\dero\\dero\\data\\compareids\\models\\main.py(17)build_graph()\n",
      "-> subgraphs = self.process.to_subgraphs(self.options)\n",
      "(Pdb) c\n",
      "> c:\\users\\derobertisna.ufad\\dropbox (personal)\\python\\dero\\dero\\data\\compareids\\models\\datasets.py(111)to_node()\n",
      "-> comparison = self.compare()\n",
      "(Pdb) self.name\n",
      "'WorldScope Financials/Morningstar Holdings Financials/Holdings/Datastream Stock'\n",
      "(Pdb) c\n",
      "> c:\\users\\derobertisna.ufad\\dropbox (personal)\\python\\dero\\dero\\data\\compareids\\models\\datasets.py(111)to_node()\n",
      "-> comparison = self.compare()\n",
      "(Pdb) self.name\n",
      "'Capital IQ Financials/Morningstar Holdings Financials/Holdings/WorldScope Stock'\n",
      "(Pdb) c\n",
      "> c:\\users\\derobertisna.ufad\\dropbox (personal)\\python\\dero\\dero\\data\\compareids\\models\\datasets.py(111)to_node()\n",
      "-> comparison = self.compare()\n",
      "(Pdb) self.name\n",
      "'Capital IQ Financials/Morningstar Holdings Financials/Holdings/Datastream Stock'\n",
      "(Pdb) c\n",
      "> c:\\users\\derobertisna.ufad\\dropbox (personal)\\python\\dero\\dero\\data\\compareids\\models\\datasets.py(111)to_node()\n",
      "-> comparison = self.compare()\n",
      "(Pdb) self.name\n",
      "'WorldScope Financials/Morningstar Holdings'\n",
      "(Pdb) u\n",
      "> c:\\users\\derobertisna.ufad\\dropbox (personal)\\python\\dero\\dero\\data\\compareids\\models\\datasets.py(81)<listcomp>()\n",
      "-> nodes = [source.to_node(**options.node_attr) for source in self.sources]\n",
      "(Pdb) u\n",
      "> c:\\users\\derobertisna.ufad\\dropbox (personal)\\python\\dero\\dero\\data\\compareids\\models\\datasets.py(81)to_nodes()\n",
      "-> nodes = [source.to_node(**options.node_attr) for source in self.sources]\n",
      "(Pdb) u\n",
      "> c:\\users\\derobertisna.ufad\\dropbox (personal)\\python\\dero\\dero\\data\\compareids\\models\\datasets.py(75)to_subgraph()\n",
      "-> nodes = self.to_nodes(options)\n",
      "(Pdb) u\n",
      "> c:\\users\\derobertisna.ufad\\dropbox (personal)\\python\\dero\\dero\\data\\compareids\\models\\steps.py(20)<listcomp>()\n",
      "-> self._subgraphs = [subject.to_subgraph(options) for subject in self.all_subjects]\n",
      "(Pdb) u\n",
      "> c:\\users\\derobertisna.ufad\\dropbox (personal)\\python\\dero\\dero\\data\\compareids\\models\\steps.py(20)subgraphs()\n",
      "-> self._subgraphs = [subject.to_subgraph(options) for subject in self.all_subjects]\n",
      "(Pdb) u\n",
      "> c:\\users\\derobertisna.ufad\\dropbox (personal)\\python\\dero\\dero\\data\\compareids\\models\\steps.py(42)subgraphs()\n",
      "-> subgraphs.extend(super().subgraphs(options))\n",
      "(Pdb) u\n",
      "> c:\\users\\derobertisna.ufad\\dropbox (personal)\\python\\dero\\dero\\data\\compareids\\models\\steps.py(81)to_subgraphs()\n",
      "-> subgraphs.extend(step.subgraphs(options)) #contains last subgraph, combined subgraph, and to merge subgraph\n",
      "(Pdb) u\n",
      "> c:\\users\\derobertisna.ufad\\dropbox (personal)\\python\\dero\\dero\\data\\compareids\\models\\main.py(17)build_graph()\n",
      "-> subgraphs = self.process.to_subgraphs(self.options)\n",
      "(Pdb) q\n"
     ]
    },
    {
     "ename": "BdbQuit",
     "evalue": "",
     "output_type": "error",
     "traceback": [
      "\u001b[1;31m---------------------------------------------------------------------------\u001b[0m",
      "\u001b[1;31mBdbQuit\u001b[0m                                   Traceback (most recent call last)",
      "\u001b[1;32m<ipython-input-5-48747bcdb5dd>\u001b[0m in \u001b[0;36m<module>\u001b[1;34m()\u001b[0m\n\u001b[1;32m----> 1\u001b[1;33m \u001b[0mgraph\u001b[0m \u001b[1;33m=\u001b[0m \u001b[0mpipeline\u001b[0m\u001b[1;33m.\u001b[0m\u001b[0mbuild_graph\u001b[0m\u001b[1;33m(\u001b[0m\u001b[1;33m)\u001b[0m\u001b[1;33m\u001b[0m\u001b[0m\n\u001b[0m",
      "\u001b[1;32mC:\\Users\\derobertisna.UFAD\\Dropbox (Personal)\\Python\\Dero\\dero\\data\\compareids\\models\\main.py\u001b[0m in \u001b[0;36mbuild_graph\u001b[1;34m(self, **graph_kwargs)\u001b[0m\n\u001b[0;32m     15\u001b[0m \u001b[1;33m\u001b[0m\u001b[0m\n\u001b[0;32m     16\u001b[0m     \u001b[1;32mdef\u001b[0m \u001b[0mbuild_graph\u001b[0m\u001b[1;33m(\u001b[0m\u001b[0mself\u001b[0m\u001b[1;33m,\u001b[0m \u001b[1;33m**\u001b[0m\u001b[0mgraph_kwargs\u001b[0m\u001b[1;33m)\u001b[0m\u001b[1;33m:\u001b[0m\u001b[1;33m\u001b[0m\u001b[0m\n\u001b[1;32m---> 17\u001b[1;33m         \u001b[0msubgraphs\u001b[0m \u001b[1;33m=\u001b[0m \u001b[0mself\u001b[0m\u001b[1;33m.\u001b[0m\u001b[0mprocess\u001b[0m\u001b[1;33m.\u001b[0m\u001b[0mto_subgraphs\u001b[0m\u001b[1;33m(\u001b[0m\u001b[0mself\u001b[0m\u001b[1;33m.\u001b[0m\u001b[0moptions\u001b[0m\u001b[1;33m)\u001b[0m\u001b[1;33m\u001b[0m\u001b[0m\n\u001b[0m\u001b[0;32m     18\u001b[0m         \u001b[0medges\u001b[0m \u001b[1;33m=\u001b[0m \u001b[0mself\u001b[0m\u001b[1;33m.\u001b[0m\u001b[0mprocess\u001b[0m\u001b[1;33m.\u001b[0m\u001b[0mto_edges\u001b[0m\u001b[1;33m(\u001b[0m\u001b[0mself\u001b[0m\u001b[1;33m.\u001b[0m\u001b[0moptions\u001b[0m\u001b[1;33m)\u001b[0m\u001b[1;33m\u001b[0m\u001b[0m\n\u001b[0;32m     19\u001b[0m         \u001b[0mgraph_elements\u001b[0m \u001b[1;33m=\u001b[0m \u001b[0msubgraphs\u001b[0m \u001b[1;33m+\u001b[0m \u001b[0medges\u001b[0m\u001b[1;33m\u001b[0m\u001b[0m\n",
      "\u001b[1;32mC:\\Users\\derobertisna.UFAD\\Dropbox (Personal)\\Python\\Dero\\dero\\data\\compareids\\models\\steps.py\u001b[0m in \u001b[0;36mto_subgraphs\u001b[1;34m(self, options)\u001b[0m\n\u001b[0;32m     79\u001b[0m         \u001b[1;32mfor\u001b[0m \u001b[0mstep\u001b[0m \u001b[1;32min\u001b[0m \u001b[0mself\u001b[0m\u001b[1;33m.\u001b[0m\u001b[0msteps\u001b[0m\u001b[1;33m:\u001b[0m\u001b[1;33m\u001b[0m\u001b[0m\n\u001b[0;32m     80\u001b[0m             \u001b[1;32mif\u001b[0m \u001b[0misinstance\u001b[0m\u001b[1;33m(\u001b[0m\u001b[0mstep\u001b[0m\u001b[1;33m,\u001b[0m \u001b[0mMergeStep\u001b[0m\u001b[1;33m)\u001b[0m\u001b[1;33m:\u001b[0m\u001b[1;33m\u001b[0m\u001b[0m\n\u001b[1;32m---> 81\u001b[1;33m                 \u001b[0msubgraphs\u001b[0m\u001b[1;33m.\u001b[0m\u001b[0mextend\u001b[0m\u001b[1;33m(\u001b[0m\u001b[0mstep\u001b[0m\u001b[1;33m.\u001b[0m\u001b[0msubgraphs\u001b[0m\u001b[1;33m(\u001b[0m\u001b[0moptions\u001b[0m\u001b[1;33m)\u001b[0m\u001b[1;33m)\u001b[0m \u001b[1;31m#contains last subgraph, combined subgraph, and to merge subgraph\u001b[0m\u001b[1;33m\u001b[0m\u001b[0m\n\u001b[0m\u001b[0;32m     82\u001b[0m             \u001b[1;32melif\u001b[0m \u001b[0misinstance\u001b[0m\u001b[1;33m(\u001b[0m\u001b[0mstep\u001b[0m\u001b[1;33m,\u001b[0m \u001b[0mStep\u001b[0m\u001b[1;33m)\u001b[0m\u001b[1;33m:\u001b[0m\u001b[1;33m\u001b[0m\u001b[0m\n\u001b[0;32m     83\u001b[0m                 \u001b[1;32mcontinue\u001b[0m \u001b[1;31m#step subgraph will be handled within merge step subgraph\u001b[0m\u001b[1;33m\u001b[0m\u001b[0m\n",
      "\u001b[1;32mC:\\Users\\derobertisna.UFAD\\Dropbox (Personal)\\Python\\Dero\\dero\\data\\compareids\\models\\steps.py\u001b[0m in \u001b[0;36msubgraphs\u001b[1;34m(self, options)\u001b[0m\n\u001b[0;32m     40\u001b[0m             \u001b[0msubgraphs\u001b[0m \u001b[1;33m=\u001b[0m \u001b[1;33m[\u001b[0m\u001b[1;33m]\u001b[0m\u001b[1;33m\u001b[0m\u001b[0m\n\u001b[0;32m     41\u001b[0m             \u001b[0msubgraphs\u001b[0m\u001b[1;33m.\u001b[0m\u001b[0mappend\u001b[0m\u001b[1;33m(\u001b[0m\u001b[0mself\u001b[0m\u001b[1;33m.\u001b[0m\u001b[0m_merge_subgraph\u001b[0m\u001b[1;33m(\u001b[0m\u001b[0moptions\u001b[0m\u001b[1;33m)\u001b[0m\u001b[1;33m)\u001b[0m\u001b[1;33m\u001b[0m\u001b[0m\n\u001b[1;32m---> 42\u001b[1;33m             \u001b[0msubgraphs\u001b[0m\u001b[1;33m.\u001b[0m\u001b[0mextend\u001b[0m\u001b[1;33m(\u001b[0m\u001b[0msuper\u001b[0m\u001b[1;33m(\u001b[0m\u001b[1;33m)\u001b[0m\u001b[1;33m.\u001b[0m\u001b[0msubgraphs\u001b[0m\u001b[1;33m(\u001b[0m\u001b[0moptions\u001b[0m\u001b[1;33m)\u001b[0m\u001b[1;33m)\u001b[0m\u001b[1;33m\u001b[0m\u001b[0m\n\u001b[0m\u001b[0;32m     43\u001b[0m             \u001b[0mself\u001b[0m\u001b[1;33m.\u001b[0m\u001b[0m_subgraphs\u001b[0m \u001b[1;33m=\u001b[0m \u001b[0msubgraphs\u001b[0m\u001b[1;33m\u001b[0m\u001b[0m\n\u001b[0;32m     44\u001b[0m         \u001b[1;32mreturn\u001b[0m \u001b[0mself\u001b[0m\u001b[1;33m.\u001b[0m\u001b[0m_subgraphs\u001b[0m\u001b[1;33m\u001b[0m\u001b[0m\n",
      "\u001b[1;32mC:\\Users\\derobertisna.UFAD\\Dropbox (Personal)\\Python\\Dero\\dero\\data\\compareids\\models\\steps.py\u001b[0m in \u001b[0;36msubgraphs\u001b[1;34m(self, options)\u001b[0m\n\u001b[0;32m     18\u001b[0m \u001b[1;33m\u001b[0m\u001b[0m\n\u001b[0;32m     19\u001b[0m         \u001b[1;32mif\u001b[0m \u001b[0mself\u001b[0m\u001b[1;33m.\u001b[0m\u001b[0m_subgraphs\u001b[0m \u001b[1;32mis\u001b[0m \u001b[1;32mNone\u001b[0m\u001b[1;33m:\u001b[0m\u001b[1;33m\u001b[0m\u001b[0m\n\u001b[1;32m---> 20\u001b[1;33m             \u001b[0mself\u001b[0m\u001b[1;33m.\u001b[0m\u001b[0m_subgraphs\u001b[0m \u001b[1;33m=\u001b[0m \u001b[1;33m[\u001b[0m\u001b[0msubject\u001b[0m\u001b[1;33m.\u001b[0m\u001b[0mto_subgraph\u001b[0m\u001b[1;33m(\u001b[0m\u001b[0moptions\u001b[0m\u001b[1;33m)\u001b[0m \u001b[1;32mfor\u001b[0m \u001b[0msubject\u001b[0m \u001b[1;32min\u001b[0m \u001b[0mself\u001b[0m\u001b[1;33m.\u001b[0m\u001b[0mall_subjects\u001b[0m\u001b[1;33m]\u001b[0m\u001b[1;33m\u001b[0m\u001b[0m\n\u001b[0m\u001b[0;32m     21\u001b[0m         \u001b[1;32mreturn\u001b[0m \u001b[0mself\u001b[0m\u001b[1;33m.\u001b[0m\u001b[0m_subgraphs\u001b[0m\u001b[1;33m\u001b[0m\u001b[0m\n\u001b[0;32m     22\u001b[0m \u001b[1;33m\u001b[0m\u001b[0m\n",
      "\u001b[1;32mC:\\Users\\derobertisna.UFAD\\Dropbox (Personal)\\Python\\Dero\\dero\\data\\compareids\\models\\steps.py\u001b[0m in \u001b[0;36m<listcomp>\u001b[1;34m(.0)\u001b[0m\n\u001b[0;32m     18\u001b[0m \u001b[1;33m\u001b[0m\u001b[0m\n\u001b[0;32m     19\u001b[0m         \u001b[1;32mif\u001b[0m \u001b[0mself\u001b[0m\u001b[1;33m.\u001b[0m\u001b[0m_subgraphs\u001b[0m \u001b[1;32mis\u001b[0m \u001b[1;32mNone\u001b[0m\u001b[1;33m:\u001b[0m\u001b[1;33m\u001b[0m\u001b[0m\n\u001b[1;32m---> 20\u001b[1;33m             \u001b[0mself\u001b[0m\u001b[1;33m.\u001b[0m\u001b[0m_subgraphs\u001b[0m \u001b[1;33m=\u001b[0m \u001b[1;33m[\u001b[0m\u001b[0msubject\u001b[0m\u001b[1;33m.\u001b[0m\u001b[0mto_subgraph\u001b[0m\u001b[1;33m(\u001b[0m\u001b[0moptions\u001b[0m\u001b[1;33m)\u001b[0m \u001b[1;32mfor\u001b[0m \u001b[0msubject\u001b[0m \u001b[1;32min\u001b[0m \u001b[0mself\u001b[0m\u001b[1;33m.\u001b[0m\u001b[0mall_subjects\u001b[0m\u001b[1;33m]\u001b[0m\u001b[1;33m\u001b[0m\u001b[0m\n\u001b[0m\u001b[0;32m     21\u001b[0m         \u001b[1;32mreturn\u001b[0m \u001b[0mself\u001b[0m\u001b[1;33m.\u001b[0m\u001b[0m_subgraphs\u001b[0m\u001b[1;33m\u001b[0m\u001b[0m\n\u001b[0;32m     22\u001b[0m \u001b[1;33m\u001b[0m\u001b[0m\n",
      "\u001b[1;32mC:\\Users\\derobertisna.UFAD\\Dropbox (Personal)\\Python\\Dero\\dero\\data\\compareids\\models\\datasets.py\u001b[0m in \u001b[0;36mto_subgraph\u001b[1;34m(self, options)\u001b[0m\n\u001b[0;32m     73\u001b[0m \u001b[1;33m\u001b[0m\u001b[0m\n\u001b[0;32m     74\u001b[0m     \u001b[1;32mdef\u001b[0m \u001b[0mto_subgraph\u001b[0m\u001b[1;33m(\u001b[0m\u001b[0mself\u001b[0m\u001b[1;33m,\u001b[0m \u001b[0moptions\u001b[0m\u001b[1;33m:\u001b[0m \u001b[0mPipelineOptions\u001b[0m\u001b[1;33m)\u001b[0m\u001b[1;33m:\u001b[0m\u001b[1;33m\u001b[0m\u001b[0m\n\u001b[1;32m---> 75\u001b[1;33m         \u001b[0mnodes\u001b[0m \u001b[1;33m=\u001b[0m \u001b[0mself\u001b[0m\u001b[1;33m.\u001b[0m\u001b[0mto_nodes\u001b[0m\u001b[1;33m(\u001b[0m\u001b[0moptions\u001b[0m\u001b[1;33m)\u001b[0m\u001b[1;33m\u001b[0m\u001b[0m\n\u001b[0m\u001b[0;32m     76\u001b[0m \u001b[1;33m\u001b[0m\u001b[0m\n\u001b[0;32m     77\u001b[0m         \u001b[1;32mreturn\u001b[0m \u001b[0mSubgraph\u001b[0m\u001b[1;33m(\u001b[0m\u001b[0mnodes\u001b[0m\u001b[1;33m,\u001b[0m \u001b[0mname\u001b[0m\u001b[1;33m=\u001b[0m\u001b[0mself\u001b[0m\u001b[1;33m.\u001b[0m\u001b[0mname\u001b[0m\u001b[1;33m,\u001b[0m \u001b[0mdigraph\u001b[0m\u001b[1;33m=\u001b[0m\u001b[0moptions\u001b[0m\u001b[1;33m.\u001b[0m\u001b[0mdigraph\u001b[0m\u001b[1;33m,\u001b[0m \u001b[1;33m**\u001b[0m\u001b[0moptions\u001b[0m\u001b[1;33m.\u001b[0m\u001b[0mgraph_attr\u001b[0m\u001b[1;33m)\u001b[0m\u001b[1;33m\u001b[0m\u001b[0m\n",
      "\u001b[1;32mC:\\Users\\derobertisna.UFAD\\Dropbox (Personal)\\Python\\Dero\\dero\\data\\compareids\\models\\datasets.py\u001b[0m in \u001b[0;36mto_nodes\u001b[1;34m(self, options)\u001b[0m\n\u001b[0;32m     79\u001b[0m     \u001b[1;32mdef\u001b[0m \u001b[0mto_nodes\u001b[0m\u001b[1;33m(\u001b[0m\u001b[0mself\u001b[0m\u001b[1;33m,\u001b[0m \u001b[0moptions\u001b[0m\u001b[1;33m:\u001b[0m \u001b[0mPipelineOptions\u001b[0m\u001b[1;33m)\u001b[0m\u001b[1;33m:\u001b[0m\u001b[1;33m\u001b[0m\u001b[0m\n\u001b[0;32m     80\u001b[0m         \u001b[1;32mif\u001b[0m \u001b[0moptions\u001b[0m\u001b[1;33m.\u001b[0m\u001b[0mdata_sources\u001b[0m\u001b[1;33m:\u001b[0m\u001b[1;33m\u001b[0m\u001b[0m\n\u001b[1;32m---> 81\u001b[1;33m             \u001b[0mnodes\u001b[0m \u001b[1;33m=\u001b[0m \u001b[1;33m[\u001b[0m\u001b[0msource\u001b[0m\u001b[1;33m.\u001b[0m\u001b[0mto_node\u001b[0m\u001b[1;33m(\u001b[0m\u001b[1;33m**\u001b[0m\u001b[0moptions\u001b[0m\u001b[1;33m.\u001b[0m\u001b[0mnode_attr\u001b[0m\u001b[1;33m)\u001b[0m \u001b[1;32mfor\u001b[0m \u001b[0msource\u001b[0m \u001b[1;32min\u001b[0m \u001b[0mself\u001b[0m\u001b[1;33m.\u001b[0m\u001b[0msources\u001b[0m\u001b[1;33m]\u001b[0m\u001b[1;33m\u001b[0m\u001b[0m\n\u001b[0m\u001b[0;32m     82\u001b[0m         \u001b[1;32melse\u001b[0m\u001b[1;33m:\u001b[0m\u001b[1;33m\u001b[0m\u001b[0m\n\u001b[0;32m     83\u001b[0m             \u001b[0mnode_kwargs\u001b[0m \u001b[1;33m=\u001b[0m \u001b[0moptions\u001b[0m\u001b[1;33m.\u001b[0m\u001b[0mnode_attr\u001b[0m\u001b[1;33m.\u001b[0m\u001b[0mcopy\u001b[0m\u001b[1;33m(\u001b[0m\u001b[1;33m)\u001b[0m\u001b[1;33m\u001b[0m\u001b[0m\n",
      "\u001b[1;32mC:\\Users\\derobertisna.UFAD\\Dropbox (Personal)\\Python\\Dero\\dero\\data\\compareids\\models\\datasets.py\u001b[0m in \u001b[0;36m<listcomp>\u001b[1;34m(.0)\u001b[0m\n\u001b[0;32m     79\u001b[0m     \u001b[1;32mdef\u001b[0m \u001b[0mto_nodes\u001b[0m\u001b[1;33m(\u001b[0m\u001b[0mself\u001b[0m\u001b[1;33m,\u001b[0m \u001b[0moptions\u001b[0m\u001b[1;33m:\u001b[0m \u001b[0mPipelineOptions\u001b[0m\u001b[1;33m)\u001b[0m\u001b[1;33m:\u001b[0m\u001b[1;33m\u001b[0m\u001b[0m\n\u001b[0;32m     80\u001b[0m         \u001b[1;32mif\u001b[0m \u001b[0moptions\u001b[0m\u001b[1;33m.\u001b[0m\u001b[0mdata_sources\u001b[0m\u001b[1;33m:\u001b[0m\u001b[1;33m\u001b[0m\u001b[0m\n\u001b[1;32m---> 81\u001b[1;33m             \u001b[0mnodes\u001b[0m \u001b[1;33m=\u001b[0m \u001b[1;33m[\u001b[0m\u001b[0msource\u001b[0m\u001b[1;33m.\u001b[0m\u001b[0mto_node\u001b[0m\u001b[1;33m(\u001b[0m\u001b[1;33m**\u001b[0m\u001b[0moptions\u001b[0m\u001b[1;33m.\u001b[0m\u001b[0mnode_attr\u001b[0m\u001b[1;33m)\u001b[0m \u001b[1;32mfor\u001b[0m \u001b[0msource\u001b[0m \u001b[1;32min\u001b[0m \u001b[0mself\u001b[0m\u001b[1;33m.\u001b[0m\u001b[0msources\u001b[0m\u001b[1;33m]\u001b[0m\u001b[1;33m\u001b[0m\u001b[0m\n\u001b[0m\u001b[0;32m     82\u001b[0m         \u001b[1;32melse\u001b[0m\u001b[1;33m:\u001b[0m\u001b[1;33m\u001b[0m\u001b[0m\n\u001b[0;32m     83\u001b[0m             \u001b[0mnode_kwargs\u001b[0m \u001b[1;33m=\u001b[0m \u001b[0moptions\u001b[0m\u001b[1;33m.\u001b[0m\u001b[0mnode_attr\u001b[0m\u001b[1;33m.\u001b[0m\u001b[0mcopy\u001b[0m\u001b[1;33m(\u001b[0m\u001b[1;33m)\u001b[0m\u001b[1;33m\u001b[0m\u001b[0m\n",
      "\u001b[1;32mC:\\Users\\derobertisna.UFAD\\Dropbox (Personal)\\Python\\Dero\\dero\\data\\compareids\\models\\datasets.py\u001b[0m in \u001b[0;36mto_node\u001b[1;34m(self, plt, **node_kwargs)\u001b[0m\n\u001b[0;32m    109\u001b[0m         \u001b[1;31m#### END TEMP\u001b[0m\u001b[1;33m\u001b[0m\u001b[1;33m\u001b[0m\u001b[0m\n\u001b[0;32m    110\u001b[0m \u001b[1;33m\u001b[0m\u001b[0m\n\u001b[1;32m--> 111\u001b[1;33m         \u001b[0mcomparison\u001b[0m \u001b[1;33m=\u001b[0m \u001b[0mself\u001b[0m\u001b[1;33m.\u001b[0m\u001b[0mcompare\u001b[0m\u001b[1;33m(\u001b[0m\u001b[1;33m)\u001b[0m\u001b[1;33m\u001b[0m\u001b[0m\n\u001b[0m\u001b[0;32m    112\u001b[0m         \u001b[1;31m# No ids, could not generate comparison, display normal node\u001b[0m\u001b[1;33m\u001b[0m\u001b[1;33m\u001b[0m\u001b[0m\n\u001b[0;32m    113\u001b[0m         \u001b[1;32mif\u001b[0m \u001b[1;32mnot\u001b[0m \u001b[0mcomparison\u001b[0m\u001b[1;33m:\u001b[0m\u001b[1;33m\u001b[0m\u001b[0m\n",
      "\u001b[1;32mC:\\Users\\derobertisna.UFAD\\Dropbox (Personal)\\Python\\Dero\\dero\\data\\compareids\\models\\datasets.py\u001b[0m in \u001b[0;36mto_node\u001b[1;34m(self, plt, **node_kwargs)\u001b[0m\n\u001b[0;32m    109\u001b[0m         \u001b[1;31m#### END TEMP\u001b[0m\u001b[1;33m\u001b[0m\u001b[1;33m\u001b[0m\u001b[0m\n\u001b[0;32m    110\u001b[0m \u001b[1;33m\u001b[0m\u001b[0m\n\u001b[1;32m--> 111\u001b[1;33m         \u001b[0mcomparison\u001b[0m \u001b[1;33m=\u001b[0m \u001b[0mself\u001b[0m\u001b[1;33m.\u001b[0m\u001b[0mcompare\u001b[0m\u001b[1;33m(\u001b[0m\u001b[1;33m)\u001b[0m\u001b[1;33m\u001b[0m\u001b[0m\n\u001b[0m\u001b[0;32m    112\u001b[0m         \u001b[1;31m# No ids, could not generate comparison, display normal node\u001b[0m\u001b[1;33m\u001b[0m\u001b[1;33m\u001b[0m\u001b[0m\n\u001b[0;32m    113\u001b[0m         \u001b[1;32mif\u001b[0m \u001b[1;32mnot\u001b[0m \u001b[0mcomparison\u001b[0m\u001b[1;33m:\u001b[0m\u001b[1;33m\u001b[0m\u001b[0m\n",
      "\u001b[1;32mC:\\ProgramData\\Anaconda3\\lib\\bdb.py\u001b[0m in \u001b[0;36mtrace_dispatch\u001b[1;34m(self, frame, event, arg)\u001b[0m\n\u001b[0;32m     46\u001b[0m             \u001b[1;32mreturn\u001b[0m \u001b[1;31m# None\u001b[0m\u001b[1;33m\u001b[0m\u001b[0m\n\u001b[0;32m     47\u001b[0m         \u001b[1;32mif\u001b[0m \u001b[0mevent\u001b[0m \u001b[1;33m==\u001b[0m \u001b[1;34m'line'\u001b[0m\u001b[1;33m:\u001b[0m\u001b[1;33m\u001b[0m\u001b[0m\n\u001b[1;32m---> 48\u001b[1;33m             \u001b[1;32mreturn\u001b[0m \u001b[0mself\u001b[0m\u001b[1;33m.\u001b[0m\u001b[0mdispatch_line\u001b[0m\u001b[1;33m(\u001b[0m\u001b[0mframe\u001b[0m\u001b[1;33m)\u001b[0m\u001b[1;33m\u001b[0m\u001b[0m\n\u001b[0m\u001b[0;32m     49\u001b[0m         \u001b[1;32mif\u001b[0m \u001b[0mevent\u001b[0m \u001b[1;33m==\u001b[0m \u001b[1;34m'call'\u001b[0m\u001b[1;33m:\u001b[0m\u001b[1;33m\u001b[0m\u001b[0m\n\u001b[0;32m     50\u001b[0m             \u001b[1;32mreturn\u001b[0m \u001b[0mself\u001b[0m\u001b[1;33m.\u001b[0m\u001b[0mdispatch_call\u001b[0m\u001b[1;33m(\u001b[0m\u001b[0mframe\u001b[0m\u001b[1;33m,\u001b[0m \u001b[0marg\u001b[0m\u001b[1;33m)\u001b[0m\u001b[1;33m\u001b[0m\u001b[0m\n",
      "\u001b[1;32mC:\\ProgramData\\Anaconda3\\lib\\bdb.py\u001b[0m in \u001b[0;36mdispatch_line\u001b[1;34m(self, frame)\u001b[0m\n\u001b[0;32m     65\u001b[0m         \u001b[1;32mif\u001b[0m \u001b[0mself\u001b[0m\u001b[1;33m.\u001b[0m\u001b[0mstop_here\u001b[0m\u001b[1;33m(\u001b[0m\u001b[0mframe\u001b[0m\u001b[1;33m)\u001b[0m \u001b[1;32mor\u001b[0m \u001b[0mself\u001b[0m\u001b[1;33m.\u001b[0m\u001b[0mbreak_here\u001b[0m\u001b[1;33m(\u001b[0m\u001b[0mframe\u001b[0m\u001b[1;33m)\u001b[0m\u001b[1;33m:\u001b[0m\u001b[1;33m\u001b[0m\u001b[0m\n\u001b[0;32m     66\u001b[0m             \u001b[0mself\u001b[0m\u001b[1;33m.\u001b[0m\u001b[0muser_line\u001b[0m\u001b[1;33m(\u001b[0m\u001b[0mframe\u001b[0m\u001b[1;33m)\u001b[0m\u001b[1;33m\u001b[0m\u001b[0m\n\u001b[1;32m---> 67\u001b[1;33m             \u001b[1;32mif\u001b[0m \u001b[0mself\u001b[0m\u001b[1;33m.\u001b[0m\u001b[0mquitting\u001b[0m\u001b[1;33m:\u001b[0m \u001b[1;32mraise\u001b[0m \u001b[0mBdbQuit\u001b[0m\u001b[1;33m\u001b[0m\u001b[0m\n\u001b[0m\u001b[0;32m     68\u001b[0m         \u001b[1;32mreturn\u001b[0m \u001b[0mself\u001b[0m\u001b[1;33m.\u001b[0m\u001b[0mtrace_dispatch\u001b[0m\u001b[1;33m\u001b[0m\u001b[0m\n\u001b[0;32m     69\u001b[0m \u001b[1;33m\u001b[0m\u001b[0m\n",
      "\u001b[1;31mBdbQuit\u001b[0m: "
     ]
    }
   ],
   "source": [
    "graph = pipeline.build_graph()"
   ]
  },
  {
   "cell_type": "raw",
   "metadata": {},
   "source": [
    "graph is still not working right when there are data sources provided and more than two steps. it is creating extra nodes and the names are messed up."
   ]
  },
  {
   "cell_type": "code",
   "execution_count": 3,
   "metadata": {},
   "outputs": [
    {
     "data": {
      "image/svg+xml": [
       "<?xml version=\"1.0\" encoding=\"UTF-8\" standalone=\"no\"?>\r\n",
       "<!DOCTYPE svg PUBLIC \"-//W3C//DTD SVG 1.1//EN\"\r\n",
       " \"http://www.w3.org/Graphics/SVG/1.1/DTD/svg11.dtd\">\r\n",
       "<!-- Generated by graphviz version 2.38.0 (20140413.2041)\r\n",
       " -->\r\n",
       "<!-- Title: Regression Pipeline Pages: 1 -->\r\n",
       "<svg width=\"293pt\" height=\"265pt\"\r\n",
       " viewBox=\"0.00 0.00 293.00 265.00\" xmlns=\"http://www.w3.org/2000/svg\" xmlns:xlink=\"http://www.w3.org/1999/xlink\">\r\n",
       "<g id=\"graph0\" class=\"graph\" transform=\"scale(1 1) rotate(0) translate(4 261)\">\r\n",
       "<title>Regression Pipeline</title>\r\n",
       "<polygon fill=\"white\" stroke=\"none\" points=\"-4,4 -4,-261 289,-261 289,4 -4,4\"/>\r\n",
       "<g id=\"clust5\" class=\"cluster\"><title>clusterStock</title>\r\n",
       "<polygon fill=\"none\" stroke=\"black\" points=\"18,-91 18,-166 88,-166 88,-91 18,-91\"/>\r\n",
       "<text text-anchor=\"middle\" x=\"53\" y=\"-150.8\" font-family=\"Times New Roman,serif\" font-size=\"14.00\">Stock</text>\r\n",
       "</g>\r\n",
       "<g id=\"clust3\" class=\"cluster\"><title>clusterHoldings</title>\r\n",
       "<polygon fill=\"none\" stroke=\"black\" points=\"207,-174 207,-249 277,-249 277,-174 207,-174\"/>\r\n",
       "<text text-anchor=\"middle\" x=\"242\" y=\"-233.8\" font-family=\"Times New Roman,serif\" font-size=\"14.00\">Holdings</text>\r\n",
       "</g>\r\n",
       "<g id=\"clust2\" class=\"cluster\"><title>clusterFinancials</title>\r\n",
       "<polygon fill=\"none\" stroke=\"black\" points=\"127,-174 127,-249 199,-249 199,-174 127,-174\"/>\r\n",
       "<text text-anchor=\"middle\" x=\"163\" y=\"-233.8\" font-family=\"Times New Roman,serif\" font-size=\"14.00\">Financials</text>\r\n",
       "</g>\r\n",
       "<g id=\"clust4\" class=\"cluster\"><title>clusterFinancials/Holdings/Stock</title>\r\n",
       "<polygon fill=\"none\" stroke=\"black\" points=\"8,-8 8,-83 171,-83 171,-8 8,-8\"/>\r\n",
       "<text text-anchor=\"middle\" x=\"89.5\" y=\"-67.8\" font-family=\"Times New Roman,serif\" font-size=\"14.00\">Financials/Holdings/Stock</text>\r\n",
       "</g>\r\n",
       "<g id=\"clust1\" class=\"cluster\"><title>clusterFinancials/Holdings</title>\r\n",
       "<polygon fill=\"none\" stroke=\"black\" points=\"96,-91 96,-166 238,-166 238,-91 96,-91\"/>\r\n",
       "<text text-anchor=\"middle\" x=\"167\" y=\"-150.8\" font-family=\"Times New Roman,serif\" font-size=\"14.00\">Financials/Holdings</text>\r\n",
       "</g>\r\n",
       "<!-- 1e17201c&#45;e5bb&#45;11e7&#45;8239&#45;3417eba590ff -->\r\n",
       "<g id=\"node1\" class=\"node\"><title>1e17201c&#45;e5bb&#45;11e7&#45;8239&#45;3417eba590ff</title>\r\n",
       "<ellipse fill=\"none\" stroke=\"black\" stroke-width=\"0\" cx=\"203\" cy=\"-117\" rx=\"27\" ry=\"18\"/>\r\n",
       "</g>\r\n",
       "<!-- 1e17201d&#45;e5bb&#45;11e7&#45;8556&#45;3417eba590ff -->\r\n",
       "<g id=\"node2\" class=\"node\"><title>1e17201d&#45;e5bb&#45;11e7&#45;8556&#45;3417eba590ff</title>\r\n",
       "<ellipse fill=\"none\" stroke=\"black\" stroke-width=\"0\" cx=\"164\" cy=\"-200\" rx=\"27\" ry=\"18\"/>\r\n",
       "</g>\r\n",
       "<!-- 1e17201d&#45;e5bb&#45;11e7&#45;8556&#45;3417eba590ff&#45;&gt;1e17201c&#45;e5bb&#45;11e7&#45;8239&#45;3417eba590ff -->\r\n",
       "<g id=\"edge1\" class=\"edge\"><title>1e17201d&#45;e5bb&#45;11e7&#45;8556&#45;3417eba590ff&#45;&gt;1e17201c&#45;e5bb&#45;11e7&#45;8239&#45;3417eba590ff</title>\r\n",
       "<path fill=\"none\" stroke=\"black\" d=\"M175.68,-174C176.783,-171.894 177.886,-169.789 178.989,-167.683\"/>\r\n",
       "<polygon fill=\"black\" stroke=\"black\" points=\"178.552,-176.06 180.092,-165.577 172.351,-172.811 178.552,-176.06\"/>\r\n",
       "</g>\r\n",
       "<!-- 1e17201e&#45;e5bb&#45;11e7&#45;9682&#45;3417eba590ff -->\r\n",
       "<g id=\"node3\" class=\"node\"><title>1e17201e&#45;e5bb&#45;11e7&#45;9682&#45;3417eba590ff</title>\r\n",
       "<ellipse fill=\"none\" stroke=\"black\" stroke-width=\"0\" cx=\"242\" cy=\"-200\" rx=\"27\" ry=\"18\"/>\r\n",
       "</g>\r\n",
       "<!-- 1e17201e&#45;e5bb&#45;11e7&#45;9682&#45;3417eba590ff&#45;&gt;1e17201c&#45;e5bb&#45;11e7&#45;8239&#45;3417eba590ff -->\r\n",
       "<g id=\"edge2\" class=\"edge\"><title>1e17201e&#45;e5bb&#45;11e7&#45;9682&#45;3417eba590ff&#45;&gt;1e17201c&#45;e5bb&#45;11e7&#45;8239&#45;3417eba590ff</title>\r\n",
       "<path fill=\"none\" stroke=\"black\" d=\"M230.32,-174C229.217,-171.894 228.114,-169.789 227.011,-167.683\"/>\r\n",
       "<polygon fill=\"black\" stroke=\"black\" points=\"233.649,-172.811 225.908,-165.577 227.448,-176.06 233.649,-172.811\"/>\r\n",
       "</g>\r\n",
       "<!-- 1e17201f&#45;e5bb&#45;11e7&#45;8ba7&#45;3417eba590ff -->\r\n",
       "<g id=\"node4\" class=\"node\"><title>1e17201f&#45;e5bb&#45;11e7&#45;8ba7&#45;3417eba590ff</title>\r\n",
       "<ellipse fill=\"none\" stroke=\"black\" stroke-width=\"0\" cx=\"82\" cy=\"-34\" rx=\"27\" ry=\"18\"/>\r\n",
       "</g>\r\n",
       "<!-- 1e172020&#45;e5bb&#45;11e7&#45;a5f5&#45;3417eba590ff -->\r\n",
       "<g id=\"node5\" class=\"node\"><title>1e172020&#45;e5bb&#45;11e7&#45;a5f5&#45;3417eba590ff</title>\r\n",
       "<ellipse fill=\"none\" stroke=\"black\" stroke-width=\"0\" cx=\"131\" cy=\"-117\" rx=\"27\" ry=\"18\"/>\r\n",
       "</g>\r\n",
       "<!-- 1e172020&#45;e5bb&#45;11e7&#45;a5f5&#45;3417eba590ff&#45;&gt;1e17201f&#45;e5bb&#45;11e7&#45;8ba7&#45;3417eba590ff -->\r\n",
       "<g id=\"edge3\" class=\"edge\"><title>1e172020&#45;e5bb&#45;11e7&#45;a5f5&#45;3417eba590ff&#45;&gt;1e17201f&#45;e5bb&#45;11e7&#45;8ba7&#45;3417eba590ff</title>\r\n",
       "<path fill=\"none\" stroke=\"black\" d=\"M116.251,-91C114.947,-88.9981 113.642,-86.9962 112.337,-84.9944\"/>\r\n",
       "<polygon fill=\"black\" stroke=\"black\" points=\"119.425,-89.4593 111.032,-82.9925 113.56,-93.2814 119.425,-89.4593\"/>\r\n",
       "</g>\r\n",
       "<!-- 1e172021&#45;e5bb&#45;11e7&#45;8292&#45;3417eba590ff -->\r\n",
       "<g id=\"node6\" class=\"node\"><title>1e172021&#45;e5bb&#45;11e7&#45;8292&#45;3417eba590ff</title>\r\n",
       "<ellipse fill=\"none\" stroke=\"black\" stroke-width=\"0\" cx=\"53\" cy=\"-117\" rx=\"27\" ry=\"18\"/>\r\n",
       "</g>\r\n",
       "<!-- 1e172021&#45;e5bb&#45;11e7&#45;8292&#45;3417eba590ff&#45;&gt;1e17201f&#45;e5bb&#45;11e7&#45;8ba7&#45;3417eba590ff -->\r\n",
       "<g id=\"edge4\" class=\"edge\"><title>1e172021&#45;e5bb&#45;11e7&#45;8292&#45;3417eba590ff&#45;&gt;1e17201f&#45;e5bb&#45;11e7&#45;8ba7&#45;3417eba590ff</title>\r\n",
       "<path fill=\"none\" stroke=\"black\" d=\"M61.5726,-91C62.4168,-88.9061 63.261,-86.8122 64.1051,-84.7183\"/>\r\n",
       "<polygon fill=\"black\" stroke=\"black\" points=\"64.456,-93.2078 64.9493,-82.6244 57.9638,-90.5902 64.456,-93.2078\"/>\r\n",
       "</g>\r\n",
       "</g>\r\n",
       "</svg>\r\n"
      ],
      "text/plain": [
       "<graphviz.dot.Digraph at 0x3c88466320>"
      ]
     },
     "execution_count": 3,
     "metadata": {},
     "output_type": "execute_result"
    }
   ],
   "source": [
    "graph"
   ]
  },
  {
   "cell_type": "code",
   "execution_count": 6,
   "metadata": {},
   "outputs": [
    {
     "data": {
      "text/plain": [
       "'test.pdf'"
      ]
     },
     "execution_count": 6,
     "metadata": {},
     "output_type": "execute_result"
    }
   ],
   "source": [
    "graph.render('test')"
   ]
  },
  {
   "cell_type": "code",
   "execution_count": 3,
   "metadata": {},
   "outputs": [
    {
     "name": "stdout",
     "output_type": "stream",
     "text": [
      "> c:\\users\\derobertisna.ufad\\dropbox (personal)\\python\\dero\\dero\\data\\compareids\\models\\datasets.py(99)compare()\n",
      "-> return compare_id_collections(self.data_source.ids, self.other_data_source.ids, name=self.name)\n",
      "(Pdb) self.data_source\n",
      "<dero.data.compareids.models.datasets.DataCombination object at 0x0000002715178BE0>\n",
      "(Pdb) self.other_data_source\n",
      "<DataSource(name=WorldScope, data_source=None)>\n",
      "(Pdb) q\n"
     ]
    }
   ],
   "source": [
    "import pdb\n",
    "pdb.pm()"
   ]
  }
 ],
 "metadata": {
  "kernelspec": {
   "display_name": "Python 3",
   "language": "python",
   "name": "python3"
  },
  "language_info": {
   "codemirror_mode": {
    "name": "ipython",
    "version": 3
   },
   "file_extension": ".py",
   "mimetype": "text/x-python",
   "name": "python",
   "nbconvert_exporter": "python",
   "pygments_lexer": "ipython3",
   "version": "3.6.1"
  }
 },
 "nbformat": 4,
 "nbformat_minor": 1
}
