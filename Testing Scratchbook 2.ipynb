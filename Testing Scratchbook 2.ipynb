{
 "cells": [
  {
   "cell_type": "code",
   "execution_count": 1,
   "metadata": {},
   "outputs": [
    {
     "name": "stderr",
     "output_type": "stream",
     "text": [
      "C:\\ProgramData\\Anaconda3\\lib\\site-packages\\statsmodels\\compat\\pandas.py:56: FutureWarning: The pandas.core.datetools module is deprecated and will be removed in a future version. Please use the pandas.tseries module instead.\n",
      "  from pandas.core import datetools\n"
     ]
    }
   ],
   "source": [
    "import dero\n",
    "import pandas as pd\n",
    "from numpy import nan"
   ]
  },
  {
   "cell_type": "code",
   "execution_count": 2,
   "metadata": {},
   "outputs": [
    {
     "data": {
      "text/plain": [
       "'0.9.2'"
      ]
     },
     "execution_count": 2,
     "metadata": {},
     "output_type": "execute_result"
    }
   ],
   "source": [
    "dero.__version__"
   ]
  },
  {
   "cell_type": "code",
   "execution_count": null,
   "metadata": {
    "collapsed": true
   },
   "outputs": [],
   "source": [
    "df_extra = pd.DataFrame([\n",
    "                                (10516, 'a', '1/1/2000', 1.01),\n",
    "                                (10516, 'a', '1/2/2000', 1.02),\n",
    "                                (10516, 'a', '1/2/2000', 1.02),\n",
    "                                (10516, 'a', '1/3/2000', 1.03),\n",
    "                                (10516, 'a', '1/4/2000', 1.04),\n",
    "                                (10516, 'b', '1/1/2000', 1.05),\n",
    "                                (10516, 'b', '1/2/2000', 1.06),\n",
    "                                (10516, 'b', '1/3/2000', 1.07),\n",
    "                                (10516, 'b', '1/4/2000', 1.08),\n",
    "                                (10517, 'a', '1/1/2000', 1.09),\n",
    "                                (10517, 'a', '1/2/2000', 1.10),\n",
    "                                (10517, 'a', '1/3/2000', 1.11),\n",
    "                                (10517, 'a', '1/4/2000', 1.12),\n",
    "                               ], columns = ['PERMNO','byvar','Date', 'RET'])"
   ]
  },
  {
   "cell_type": "code",
   "execution_count": 2,
   "metadata": {
    "collapsed": true
   },
   "outputs": [],
   "source": [
    "df = pd.DataFrame([\n",
    "                                (10516, 'a', '1/1/2000', 1.01),\n",
    "                                (10516, 'a', '1/2/2000', 1.02),\n",
    "                                (10516, 'a', '1/3/2000', 1.03),\n",
    "                                (10516, 'a', '1/4/2000', 1.04),\n",
    "                                (10516, 'b', '1/1/2000', 1.05),\n",
    "                                (10516, 'b', '1/2/2000', 1.06),\n",
    "                                (10516, 'b', '1/3/2000', 1.07),\n",
    "                                (10516, 'b', '1/4/2000', 1.08),\n",
    "                                (10517, 'a', '1/1/2000', 1.09),\n",
    "                                (10517, 'a', '1/2/2000', 1.10),\n",
    "                                (10517, 'a', '1/3/2000', 1.11),\n",
    "                                (10517, 'a', '1/4/2000', 1.12),\n",
    "                               ], columns = ['PERMNO','byvar','Date', 'RET'])   \n",
    "\n",
    "df_datetime = df.copy()\n",
    "df_datetime['Date'] = pd.to_datetime(df_datetime['Date'])"
   ]
  },
  {
   "cell_type": "code",
   "execution_count": 7,
   "metadata": {
    "collapsed": true
   },
   "outputs": [],
   "source": [
    "df_extra_dates = pd.DataFrame([\n",
    "                                (10516, 'a', '1/1/2000', 1.01),\n",
    "                                (10516, 'a', '1/2/2000', 1.02),\n",
    "                                (10516, 'a', '1/3/2000', 1.03),\n",
    "                                (10516, 'a', '1/4/2000', 1.04),\n",
    "                                (10516, 'a', '1/5/2000', 1.05),\n",
    "                                (10516, 'a', '1/6/2000', 1.06),\n",
    "                                (10516, 'b', '1/1/2000', 1.05),\n",
    "                                (10516, 'b', '1/2/2000', 1.06),\n",
    "                                (10516, 'b', '1/3/2000', 1.07),\n",
    "                                (10516, 'b', '1/4/2000', 1.08),\n",
    "                                (10517, 'a', '1/1/2000', 1.09),\n",
    "                                (10517, 'a', '1/2/2000', 1.10),\n",
    "                                (10517, 'a', '1/3/2000', 1.11),\n",
    "                                (10517, 'a', '1/4/2000', 1.12),\n",
    "                                (10517, 'a', '1/5/2000', 1.13),\n",
    "                                (10517, 'a', '1/6/2000', 1.14),\n",
    "\n",
    "                               ], columns = ['PERMNO','byvar','Date', 'RET'])   \n",
    "\n",
    "    \n",
    "df_extra_datetime = df_extra_dates.copy()\n",
    "df_extra_datetime['Date'] = pd.to_datetime(df_extra_datetime['Date'])"
   ]
  },
  {
   "cell_type": "code",
   "execution_count": 2,
   "metadata": {
    "collapsed": true
   },
   "outputs": [],
   "source": [
    "from numpy import nan\n",
    "\n",
    "df = pd.DataFrame(\n",
    "        data=[\n",
    "            (1, 2, 3),\n",
    "            (4, 5, nan),\n",
    "            (10, 11, 100)\n",
    "        ],\n",
    "        columns=['y', 'x1', 'x2']\n",
    "    )"
   ]
  },
  {
   "cell_type": "code",
   "execution_count": 2,
   "metadata": {},
   "outputs": [],
   "source": [
    "df_groups = pd.DataFrame(\n",
    "        data=[\n",
    "            (1, 2, 3, 'a'),\n",
    "            (4, 5, nan, 'a'),\n",
    "            (10, 11, 100, 'a'),\n",
    "            (2, 4, 6, 'b'),\n",
    "            (5, 10, nan, 'b'),\n",
    "            (11, 15, 150, 'b'),\n",
    "        ],\n",
    "        columns=['y', 'x1', 'x2', 'group']\n",
    "    )\n",
    "\n",
    "df_fill_data = pd.DataFrame(\n",
    "        data=[\n",
    "            (4, 'c', nan, 'a'),\n",
    "            (1, 'd', 3, 'a'),\n",
    "            (10, 'e', 100, 'a'),\n",
    "            (2, nan, 6, 'b'),\n",
    "            (5, 'f', 8, 'b'),\n",
    "            (11, 'g', 150, 'b'),\n",
    "        ],\n",
    "        columns=['y', 'x1', 'x2', 'group']\n",
    "    )\n",
    "\n",
    "df_groups_no_nan = pd.DataFrame(\n",
    "        data=[\n",
    "            (1, 2, 3, 'a'),\n",
    "            (4, 5, 8, 'a'),\n",
    "            (10, 11, 100, 'a'),\n",
    "            (2, 4, 6, 'b'),\n",
    "            (5, 10, 20, 'b'),\n",
    "            (11, 15, 150, 'b'),\n",
    "        ],\n",
    "        columns=['y', 'x1', 'x2', 'group']\n",
    "    )\n",
    "\n",
    "df_two_groups = pd.DataFrame(\n",
    "        data=[\n",
    "            (1, 2, 3, 'a', 'c'),\n",
    "            (4, 5, 8, 'a', 'd'),\n",
    "            (10, 11, 100, 'a', 'd'),\n",
    "            (2, 4, 6, 'b', 'c'),\n",
    "            (5, 10, 20, 'b', 'd'),\n",
    "            (11, 15, 150, 'b', 'd'),\n",
    "        ],\n",
    "        columns=['y', 'x1', 'x2', 'group1', 'group2']\n",
    "    )\n",
    "\n",
    "df_groups_reg = pd.DataFrame(\n",
    "        data=[\n",
    "            (1, 2, 3, 'a'),\n",
    "            (4, 5, 8, 'a'),\n",
    "            (10, 11, 100, 'a'),\n",
    "            (15, 12, 123, 'a'),\n",
    "            (2, 4, 6, 'b'),\n",
    "            (5, 10, 20, 'b'),\n",
    "            (11, 15, 150, 'b'),\n",
    "            (13, 12, 156, 'b'),\n",
    "\n",
    "        ],\n",
    "        columns=['y', 'x1', 'x2', 'group']\n",
    "    )"
   ]
  },
  {
   "cell_type": "code",
   "execution_count": 48,
   "metadata": {},
   "outputs": [],
   "source": [
    "import dero\n",
    "import pandas as pd\n",
    "from pandas import Timestamp\n",
    "from testutils.byvars import add_fake_byvars\n",
    "\n",
    "\n",
    "df_get_data = pd.DataFrame(data = [\n",
    "    (10516, Timestamp('2000-01-03 00:00:00')),\n",
    "    (10517, Timestamp('2000-01-04 00:00:00')),\n",
    "    ], columns = ['PERMNO', 'Date'])"
   ]
  },
  {
   "cell_type": "code",
   "execution_count": 3,
   "metadata": {},
   "outputs": [
    {
     "name": "stderr",
     "output_type": "stream",
     "text": [
      "C:\\Users\\derobertisna.UFAD\\Dropbox (Personal)\\Python\\Dero\\dero\\reg\\summarize.py:87: SettingWithCopyWarning: \n",
      "A value is trying to be set on a copy of a slice from a DataFrame.\n",
      "Try using .loc[row_indexer,col_indexer] = value instead\n",
      "\n",
      "See the caveats in the documentation: http://pandas.pydata.org/pandas-docs/stable/indexing.html#indexing-view-versus-copy\n",
      "  df['type'] = ['estimate', 'stderr'] * int(len(df.index) / 2)\n",
      "C:\\Users\\derobertisna.UFAD\\Dropbox (Personal)\\Python\\Dero\\dero\\reg\\summarize.py:90: SettingWithCopyWarning: \n",
      "A value is trying to be set on a copy of a slice from a DataFrame.\n",
      "Try using .loc[row_indexer,col_indexer] = value instead\n",
      "\n",
      "See the caveats in the documentation: http://pandas.pydata.org/pandas-docs/stable/indexing.html#indexing-view-versus-copy\n",
      "  df['regressor'] = [i for sublist in [[j] * 2 for j in df.index[0::2]] for i in sublist]\n",
      "C:\\Users\\derobertisna.UFAD\\Dropbox (Personal)\\Python\\Dero\\dero\\reg\\summarize.py:94: SettingWithCopyWarning: \n",
      "A value is trying to be set on a copy of a slice from a DataFrame.\n",
      "Try using .loc[row_indexer,col_indexer] = value instead\n",
      "\n",
      "See the caveats in the documentation: http://pandas.pydata.org/pandas-docs/stable/indexing.html#indexing-view-versus-copy\n",
      "  df['idx'] = [i for i in range(len(df))]\n"
     ]
    },
    {
     "data": {
      "text/plain": [
       "([<statsmodels.regression.linear_model.RegressionResultsWrapper at 0x54e05988d0>,\n",
       "  (<statsmodels.regression.linear_model.RegressionResultsWrapper at 0x54e170d9b0>,\n",
       "   {'group': ['a', 'b']}),\n",
       "  <statsmodels.regression.linear_model.RegressionResultsWrapper at 0x54e0598c50>,\n",
       "  (<statsmodels.regression.linear_model.RegressionResultsWrapper at 0x54e0598da0>,\n",
       "   {'group': ['a', 'b']}),\n",
       "  <statsmodels.regression.linear_model.RegressionResultsWrapper at 0x54e059c5f8>,\n",
       "  (<statsmodels.regression.linear_model.RegressionResultsWrapper at 0x54e059c828>,\n",
       "   {'group': ['a', 'b']})],\n",
       " <class 'statsmodels.iolib.summary2.Summary'>\n",
       " \"\"\"\n",
       " \n",
       " ====================================================================\n",
       "                       y I     y II   y III   y IIII y IIIII y IIIIII\n",
       " --------------------------------------------------------------------\n",
       " const               -1.29   -1.47*  2.49*** 1.55**  1.28    0.17    \n",
       " x1                  1.01*** 1.11***                 0.26    0.43*   \n",
       " x2                                  0.07*** 0.07*** 0.06*** 0.05*** \n",
       " group Fixed Effects No      Yes     No      Yes     No      Yes     \n",
       " N                   8       8       8       8       8       8       \n",
       " R2                  0.77    0.84    0.87    0.90    0.88    0.93    \n",
       " Adj-R2              0.73    0.78    0.85    0.86    0.84    0.87    \n",
       " ====================================================================\n",
       " Standard errors in parentheses.\n",
       " * p<.1, ** p<.05, ***p<.01\n",
       " \"\"\")"
      ]
     },
     "execution_count": 3,
     "metadata": {},
     "output_type": "execute_result"
    }
   ],
   "source": [
    "from dero.reg.args import RegressionSetArgs\n",
    "\n",
    "reg_args = RegressionSetArgs(\n",
    "    df_groups_reg,\n",
    "    'y',\n",
    "    [\n",
    "        [\n",
    "            'x1'\n",
    "        ],\n",
    "        [\n",
    "            'x1'\n",
    "        ],\n",
    "        [\n",
    "            'x2'\n",
    "        ],\n",
    "        [\n",
    "            'x2'\n",
    "        ],\n",
    "        [\n",
    "            'x1', \n",
    "            'x2'\n",
    "        ],\n",
    "        [\n",
    "            'x1',\n",
    "            'x2'\n",
    "        ]\n",
    "    ],\n",
    "    [\n",
    "        None,\n",
    "        'group',\n",
    "        None,\n",
    "        'group',\n",
    "        None,\n",
    "        'group'\n",
    "    ]\n",
    "\n",
    ")\n",
    "\n",
    "dero.reg.reg_for_each_xvar_set_and_produce_summary(**reg_args)"
   ]
  },
  {
   "cell_type": "code",
   "execution_count": 15,
   "metadata": {},
   "outputs": [
    {
     "name": "stdout",
     "output_type": "stream",
     "text": [
      "Getting keys\n",
      "Getting item df\n",
      "Getting item yvar\n",
      "Getting item xvars_list\n",
      "Getting item fe\n",
      "Getting item test\n",
      "args ()\n",
      "kwargs {'df':     y  x1   x2 group\n",
      "0   1   2    3     a\n",
      "1   4   5    8     a\n",
      "2  10  11  100     a\n",
      "3  15  12  123     a\n",
      "4   2   4    6     b\n",
      "5   5  10   20     b\n",
      "6  11  15  150     b\n",
      "7  13  12  156     b, 'yvar': 'y', 'xvars_list': [['x1'], ['x1'], ['x2'], ['x2'], ['x1', 'x2'], ['x1', 'x2']], 'fe': [None, 'group', None, 'group', None, 'group'], 'test': 'wqhoop'}\n"
     ]
    }
   ],
   "source": [
    "class RegressionSetArgs:\n",
    "\n",
    "    def __init__(self, df, yvar, xvars_list, fe_list=None, **reg_kwargs):\n",
    "        self.df = df\n",
    "        self.yvar = yvar\n",
    "        self.xvars_list = xvars_list\n",
    "        self.fe = fe_list\n",
    "        self._parse_reg_kwargs(reg_kwargs)\n",
    "\n",
    "    def keys(self):\n",
    "        return ['df', 'yvar', 'xvars_list', 'fe'] + self.reg_kwarg_names\n",
    "    \n",
    "    def _parse_reg_kwargs(self, reg_kwargs):\n",
    "        self.reg_kwarg_names = []\n",
    "        for name, arg in reg_kwargs.items():\n",
    "            setattr(self, name, arg)\n",
    "            self.reg_kwarg_names.append(name)\n",
    "\n",
    "    def __getitem__(self, item):\n",
    "        return getattr(self, item)\n",
    "    \n",
    "reg_args = RegressionSetArgs(\n",
    "    df_groups_reg,\n",
    "    'y',\n",
    "    [\n",
    "        [\n",
    "            'x1'\n",
    "        ],\n",
    "        [\n",
    "            'x1'\n",
    "        ],\n",
    "        [\n",
    "            'x2'\n",
    "        ],\n",
    "        [\n",
    "            'x2'\n",
    "        ],\n",
    "        [\n",
    "            'x1', \n",
    "            'x2'\n",
    "        ],\n",
    "        [\n",
    "            'x1',\n",
    "            'x2'\n",
    "        ]\n",
    "    ],\n",
    "    [\n",
    "        None,\n",
    "        'group',\n",
    "        None,\n",
    "        'group',\n",
    "        None,\n",
    "        'group'\n",
    "    ],\n",
    ")\n",
    "\n",
    "def f(*args, **kwargs):\n",
    "    print('args', args)\n",
    "    print('kwargs', kwargs)\n",
    "    \n",
    "f(**reg_args)"
   ]
  },
  {
   "cell_type": "code",
   "execution_count": 8,
   "metadata": {},
   "outputs": [
    {
     "name": "stdout",
     "output_type": "stream",
     "text": [
      "> c:\\programdata\\anaconda3\\lib\\site-packages\\numpy\\core\\numeric.py(531)asarray()\n",
      "-> return array(a, dtype, copy=False, order=order)\n",
      "(Pdb) u\n",
      "> c:\\programdata\\anaconda3\\lib\\site-packages\\numpy\\core\\fromnumeric.py(47)_wrapit()\n",
      "-> result = getattr(asarray(obj), method)(*args, **kwds)\n",
      "(Pdb) u\n",
      "> c:\\programdata\\anaconda3\\lib\\site-packages\\numpy\\core\\fromnumeric.py(67)_wrapfunc()\n",
      "-> return _wrapit(obj, method, *args, **kwds)\n",
      "(Pdb) u\n",
      "> c:\\programdata\\anaconda3\\lib\\site-packages\\numpy\\core\\fromnumeric.py(1670)compress()\n",
      "-> return _wrapfunc(a, 'compress', condition, axis=axis, out=out)\n",
      "(Pdb) u\n",
      "> c:\\programdata\\anaconda3\\lib\\site-packages\\pandas\\core\\frame.py(3150)dropna()\n",
      "-> raise KeyError(list(np.compress(check, subset)))\n",
      "(Pdb) u\n",
      "> c:\\users\\derobertisna.ufad\\dropbox (personal)\\python\\dero\\dero\\reg\\reg.py(72)_drop_missings_df()\n",
      "-> return df.dropna(subset=drop_set)\n",
      "(Pdb) drop_set\n",
      "['y', ['x1', 'x2']]\n",
      "(Pdb) fe\n",
      "(Pdb) q\n"
     ]
    }
   ],
   "source": [
    "import pdb\n",
    "pdb.pm()"
   ]
  },
  {
   "cell_type": "code",
   "execution_count": 54,
   "metadata": {},
   "outputs": [],
   "source": [
    "df_big_fill_data = add_fake_byvars(df_fill_data, data_multipler_per_byvar=20)"
   ]
  }
 ],
 "metadata": {
  "kernelspec": {
   "display_name": "Python 3",
   "language": "python",
   "name": "python3"
  },
  "language_info": {
   "codemirror_mode": {
    "name": "ipython",
    "version": 3
   },
   "file_extension": ".py",
   "mimetype": "text/x-python",
   "name": "python",
   "nbconvert_exporter": "python",
   "pygments_lexer": "ipython3",
   "version": "3.6.1"
  }
 },
 "nbformat": 4,
 "nbformat_minor": 1
}
